{
 "cells": [
  {
   "cell_type": "code",
   "execution_count": 1,
   "metadata": {
    "scrolled": true
   },
   "outputs": [],
   "source": [
    "import os\n",
    "import pandas as pd\n",
    "import cobra\n",
    "from cobra import Model, Reaction, Metabolite\n",
    "from cobra.flux_analysis import flux_variability_analysis"
   ]
  },
  {
   "cell_type": "markdown",
   "metadata": {},
   "source": [
    "## Paring down the iJN1463 to a smaller scale model\n",
    "\n",
    "#### Summary of changes:\n",
    "\n",
    "* Removed `pWW0_xxx` genes from the model because `TOL` plasmid is absent in *P. putida* KT2440\n",
    "* Removed or fixed mass or charge imbalanced reactions\n",
    "   1. Five reactions were removed since correct balanced reactions are in the model: `MEPCT_1, HDH, APPAT, ARGDI, IDPh_1`\n",
    "   2. Modified two reactions to correct the mass or charge balance\n",
    "      `FE3PYOVDDR (fe2_p -> fe3_p), PPRGL (2.0 h_c -> h_c)`\n",
    "   3. Modified four reactions and six metabolites to correct inconsistent reactions in the pyrroloquinoline quinone biosynthesis\n",
    "      `PQQAC, PQQFEP, 2PQQS, PQQH2S`\n",
    "      `pqqA_kt_c, pqqAc_kt_c, 4pqq_c, 3pqq_c, 2pqq_c, 1pqq_c`\n",
    "* Removed sub-reactions for pyruvate dehydrogenase and alpha-ketoglutarate dehydrogenase\n",
    "  `PDHa, PDHbr, AKGDa, AKGDb_copy1, AKGDb_copy2`\n",
    "  The reaction for alpha-ketoglutarate dehydrogenase is now irreversible\n"
   ]
  },
  {
   "cell_type": "markdown",
   "metadata": {},
   "source": [
    "### Load the model from Bigg    \n",
    "\n",
    "http://bigg.ucsd.edu/static/models/iJN1463.json"
   ]
  },
  {
   "cell_type": "code",
   "execution_count": 2,
   "metadata": {},
   "outputs": [
    {
     "name": "stdout",
     "output_type": "stream",
     "text": [
      "Set parameter Username\n",
      "Academic license - for non-commercial use only - expires 2024-10-23\n"
     ]
    }
   ],
   "source": [
    "# Load the model from BiGG:  \n",
    "model = cobra.io.load_json_model('../models/iJN1463.json')"
   ]
  },
  {
   "cell_type": "code",
   "execution_count": 3,
   "metadata": {},
   "outputs": [],
   "source": [
    "# Change the solver to cplex to avoid renaming issues in gurobi optlang interface\n",
    "#model.solver = 'cplex'\n",
    "model.tolerance = 1e-9"
   ]
  },
  {
   "cell_type": "code",
   "execution_count": 4,
   "metadata": {},
   "outputs": [
    {
     "name": "stdout",
     "output_type": "stream",
     "text": [
      "BIOMASS_KT2440_Core2 (0.0, 999999.0)\n",
      "BIOMASS_KT2440_WT3 (0.0, 999999.0)\n"
     ]
    }
   ],
   "source": [
    "# Check biomass reactions\n",
    "for r in model.reactions:\n",
    "    if 'BIOMASS' in r.id:\n",
    "        print(r.id, r.bounds)"
   ]
  },
  {
   "cell_type": "code",
   "execution_count": 5,
   "metadata": {},
   "outputs": [],
   "source": [
    "# Remove the irrelevent biomass equation\n",
    "model.reactions.BIOMASS_KT2440_Core2.upper_bound = 0.0"
   ]
  },
  {
   "cell_type": "markdown",
   "metadata": {},
   "source": [
    "#### Remove pWW0_xxx genes on the TOL plasmid"
   ]
  },
  {
   "cell_type": "code",
   "execution_count": 6,
   "metadata": {},
   "outputs": [],
   "source": [
    "cobra.manipulation.remove_genes(model, [g for g in model.genes if not g.id.startswith('PP_')])"
   ]
  },
  {
   "cell_type": "markdown",
   "metadata": {},
   "source": [
    "#### Fix unbalanced reactions"
   ]
  },
  {
   "cell_type": "code",
   "execution_count": 7,
   "metadata": {
    "scrolled": true
   },
   "outputs": [
    {
     "name": "stdout",
     "output_type": "stream",
     "text": [
      "FE3PYOVDDR: fe3pyovd_p <=> fe2_p + pyovd_p \n",
      "{'charge': -1.0}\n",
      "fe2_p Fe 2\n",
      "fe3pyovd_p RFe 3\n",
      "pyovd_p R 0\n",
      "\n",
      "PQQFEP: 4.0 h2o_c + pqqAc_kt_c --> 4pqq_c + tripeptide_c PP_0381\n",
      "{'H': 1.0}\n",
      "4pqq_c C14H15N2O7 -3\n",
      "h2o_c H2O 0\n",
      "pqqAc_kt_c RC14H6N2O3 -2\n",
      "tripeptide_c R 1\n",
      "\n",
      "MEPCT_1: 2me4p_c + ctp_c --> 4c2me_c + ppi_c PP_1614\n",
      "{'charge': 1.0, 'H': 1.0}\n",
      "2me4p_c C5H11O7P -2\n",
      "4c2me_c C14H23N3O14P2 -2\n",
      "ctp_c C9H12N3O14P3 -4\n",
      "ppi_c HO7P2 -3\n",
      "\n",
      "HDH: h2o_c + histd_c + 2.0 nad_c --> 4.0 h_c + his__L_c + 2.0 nadh_c PP_0966\n",
      "{'charge': 1.0, 'H': 1.0}\n",
      "h2o_c H2O 0\n",
      "h_c H 1\n",
      "his__L_c C6H9N3O2 0\n",
      "histd_c C6H12N3O 1\n",
      "nad_c C21H26N7O14P2 -1\n",
      "nadh_c C21H27N7O14P2 -2\n",
      "\n",
      "APPAT: atp_c + 2.0 h_c + pan4p_c --> dpcoa_c + ppi_c PP_5123\n",
      "{'charge': -1.0, 'H': -1.0}\n",
      "atp_c C10H12N5O13P3 -4\n",
      "dpcoa_c C21H33N7O13P2S -2\n",
      "h_c H 1\n",
      "pan4p_c C11H21N2O7PS -2\n",
      "ppi_c HO7P2 -3\n",
      "\n",
      "ARGDI: arg__L_c + h2o_c + h_c --> citr__L_c + nh4_c PP_1001\n",
      "{'charge': -1.0, 'H': -1.0}\n",
      "arg__L_c C6H15N4O2 1\n",
      "citr__L_c C6H13N3O3 0\n",
      "h2o_c H2O 0\n",
      "h_c H 1\n",
      "nh4_c H4N 1\n",
      "\n",
      "IDPh_1: h2o_c + ppi_c --> 2.0 pi_c PP_0538\n",
      "{'charge': -1.0, 'H': -1.0}\n",
      "h2o_c H2O 0\n",
      "pi_c HO4P -2\n",
      "ppi_c HO7P2 -3\n",
      "\n",
      "PPRGL: atp_c + gly_c + pram_c --> adp_c + gar_c + 2.0 h_c + pi_c PP_4823\n",
      "{'charge': 1.0, 'H': 1.0}\n",
      "adp_c C10H12N5O10P2 -3\n",
      "atp_c C10H12N5O13P3 -4\n",
      "gar_c C7H14N2O8P -1\n",
      "gly_c C2H5NO2 0\n",
      "h_c H 1\n",
      "pi_c HO4P -2\n",
      "pram_c C5H11NO7P -1\n",
      "\n",
      "BVMO5: h_c + nadph_c + o2_c + und2one_c --> h2o_c + 0.22 methdca_c + nadp_c + 0.78 nnac_c PP_2805\n",
      "{'O': 1.3322676295501878e-15, 'C': 1.7763568394002505e-15}\n",
      "h2o_c H2O 0\n",
      "h_c H 1\n",
      "methdca_c C11H22O2 0\n",
      "nadp_c C21H25N7O17P3 -3\n",
      "nadph_c C21H26N7O17P3 -4\n",
      "nnac_c C11H22O2 0\n",
      "o2_c O2 0\n",
      "und2one_c C11H22O 0\n",
      "\n",
      "REPHACCOAT: h2o_c + rephaccoa_c --> coa_c + rephac_c PP_3285\n",
      "{'H': -2.0, 'O': -1.0}\n",
      "coa_c C21H32N7O16P3S -4\n",
      "h2o_c H2O 0\n",
      "rephac_c C8H6O2 0\n",
      "rephaccoa_c C29H38N7O18P3S -4\n",
      "\n"
     ]
    }
   ],
   "source": [
    "for r in model.reactions:\n",
    "    if not r.boundary and not 'BIOMASS' in r.id and r.check_mass_balance():\n",
    "        print(r, r.gene_reaction_rule)\n",
    "        print(r.check_mass_balance())\n",
    "        for m in r.metabolites:\n",
    "            print(m.id, m.formula, m.charge)\n",
    "        print()"
   ]
  },
  {
   "cell_type": "code",
   "execution_count": 8,
   "metadata": {
    "scrolled": true
   },
   "outputs": [
    {
     "name": "stdout",
     "output_type": "stream",
     "text": [
      "FE3PYOVDDR: fe3pyovd_p <=> fe2_p + pyovd_p \n",
      "\n",
      "PQQFEP: 4.0 h2o_c + pqqAc_kt_c --> 4pqq_c + tripeptide_c PP_0381\n",
      "PP_0381\n",
      "PQQFEP: 4.0 h2o_c + pqqAc_kt_c --> 4pqq_c + tripeptide_c {'H': 1.0}\n",
      "\n",
      "MEPCT_1: 2me4p_c + ctp_c --> 4c2me_c + ppi_c PP_1614\n",
      "PP_1614\n",
      "MEPCT_1: 2me4p_c + ctp_c --> 4c2me_c + ppi_c {'charge': 1.0, 'H': 1.0}\n",
      "MEPCT: 2me4p_c + ctp_c + h_c --> 4c2me_c + ppi_c {}\n",
      "\n",
      "HDH: h2o_c + histd_c + 2.0 nad_c --> 4.0 h_c + his__L_c + 2.0 nadh_c PP_0966\n",
      "PP_0966\n",
      "HDH: h2o_c + histd_c + 2.0 nad_c --> 4.0 h_c + his__L_c + 2.0 nadh_c {'charge': 1.0, 'H': 1.0}\n",
      "HISTD: h2o_c + histd_c + 2.0 nad_c --> 3.0 h_c + his__L_c + 2.0 nadh_c {}\n",
      "\n",
      "APPAT: atp_c + 2.0 h_c + pan4p_c --> dpcoa_c + ppi_c PP_5123\n",
      "PP_5123\n",
      "PTPATi: atp_c + h_c + pan4p_c --> dpcoa_c + ppi_c {}\n",
      "APPAT: atp_c + 2.0 h_c + pan4p_c --> dpcoa_c + ppi_c {'charge': -1.0, 'H': -1.0}\n",
      "\n",
      "ARGDI: arg__L_c + h2o_c + h_c --> citr__L_c + nh4_c PP_1001\n",
      "PP_1001\n",
      "ARGDr: arg__L_c + h2o_c --> citr__L_c + nh4_c {}\n",
      "ARGDI: arg__L_c + h2o_c + h_c --> citr__L_c + nh4_c {'charge': -1.0, 'H': -1.0}\n",
      "\n",
      "IDPh_1: h2o_c + ppi_c --> 2.0 pi_c PP_0538\n",
      "PP_0538\n",
      "IDPh_1: h2o_c + ppi_c --> 2.0 pi_c {'charge': -1.0, 'H': -1.0}\n",
      "PPA: h2o_c + ppi_c --> h_c + 2.0 pi_c {}\n",
      "\n",
      "PPRGL: atp_c + gly_c + pram_c --> adp_c + gar_c + 2.0 h_c + pi_c PP_4823\n",
      "PP_4823\n",
      "PPRGL: atp_c + gly_c + pram_c --> adp_c + gar_c + 2.0 h_c + pi_c {'charge': 1.0, 'H': 1.0}\n",
      "\n",
      "BVMO5: h_c + nadph_c + o2_c + und2one_c --> h2o_c + 0.22 methdca_c + nadp_c + 0.78 nnac_c PP_2805\n",
      "PP_2805\n",
      "BVMO5: h_c + nadph_c + o2_c + und2one_c --> h2o_c + 0.22 methdca_c + nadp_c + 0.78 nnac_c {'O': 1.3322676295501878e-15, 'C': 1.7763568394002505e-15}\n",
      "BVMO1: h_c + n2one_c + nadph_c + o2_c --> h2o_c + hpac_c + nadp_c {}\n",
      "BVMO2: d2one_c + h_c + nadph_c + o2_c --> h2o_c + nadp_c + ocac_c {}\n",
      "BVMO3: d3one_c + h_c + nadph_c + o2_c --> 0.5 ethoc_c + h2o_c + 0.5 hpppa_c + nadp_c {}\n",
      "BVMO4: d4one_c + h_c + nadph_c + o2_c --> h2o_c + hxbut_c + nadp_c {}\n",
      "\n",
      "REPHACCOAT: h2o_c + rephaccoa_c --> coa_c + rephac_c PP_3285\n",
      "PP_3285\n",
      "REPHACCOAT: h2o_c + rephaccoa_c --> coa_c + rephac_c {'H': -2.0, 'O': -1.0}\n",
      "\n"
     ]
    }
   ],
   "source": [
    "for r in model.reactions:\n",
    "    if not r.boundary and not 'BIOMASS' in r.id and r.check_mass_balance():\n",
    "        print(r, r.gene_reaction_rule)\n",
    "        for g in r.genes:\n",
    "            print(g.id)\n",
    "            for r2 in g.reactions:\n",
    "                print(r2, r2.check_mass_balance())\n",
    "        print()"
   ]
  },
  {
   "cell_type": "code",
   "execution_count": 9,
   "metadata": {},
   "outputs": [],
   "source": [
    "model.remove_reactions(['MEPCT_1', 'HDH', 'APPAT', 'ARGDI', 'IDPh_1'], remove_orphans=True)\n",
    "model.reactions.FE3PYOVDDR.add_metabolites({'fe2_p': -1.0, 'fe3_p': 1.0})\n",
    "model.reactions.PPRGL.add_metabolites({'h_c': -1.0})\n",
    "model.metabolites.rephac_c.formula = 'C8H8O3'"
   ]
  },
  {
   "cell_type": "code",
   "execution_count": 10,
   "metadata": {
    "scrolled": true
   },
   "outputs": [
    {
     "name": "stdout",
     "output_type": "stream",
     "text": [
      "PQQFEP: 4.0 h2o_c + pqqAc_kt_c --> 4pqq_c + tripeptide_c PP_0381\n",
      "{'H': 1.0}\n",
      "4pqq_c C14H15N2O7 -3\n",
      "h2o_c H2O 0\n",
      "pqqAc_kt_c RC14H6N2O3 -2\n",
      "tripeptide_c R 1\n",
      "\n",
      "BVMO5: h_c + nadph_c + o2_c + und2one_c --> h2o_c + 0.22 methdca_c + nadp_c + 0.78 nnac_c PP_2805\n",
      "{'O': 1.3322676295501878e-15, 'C': 1.7763568394002505e-15}\n",
      "h2o_c H2O 0\n",
      "h_c H 1\n",
      "methdca_c C11H22O2 0\n",
      "nadp_c C21H25N7O17P3 -3\n",
      "nadph_c C21H26N7O17P3 -4\n",
      "nnac_c C11H22O2 0\n",
      "o2_c O2 0\n",
      "und2one_c C11H22O 0\n",
      "\n"
     ]
    }
   ],
   "source": [
    "for r in model.reactions:\n",
    "    if not r.boundary and not 'BIOMASS' in r.id and r.check_mass_balance():\n",
    "        print(r, r.gene_reaction_rule)\n",
    "        print(r.check_mass_balance())\n",
    "        for m in r.metabolites:\n",
    "            print(m.id, m.formula, m.charge)\n",
    "        print()"
   ]
  },
  {
   "cell_type": "markdown",
   "metadata": {},
   "source": [
    "PQQFEP in pyrroloquinoline quinone biosynthesis, incorrect reactions  \n",
    "see https://biocyc.org/META/NEW-IMAGE?type=PATHWAY&object=PWY-6420&detail-level=3  \n",
    "BVMO5 balanced  "
   ]
  },
  {
   "cell_type": "code",
   "execution_count": 11,
   "metadata": {},
   "outputs": [],
   "source": [
    "model.metabolites.get_by_id('pqqA_kt_c').formula = 'RC14H11N2O3'\n",
    "model.metabolites.get_by_id('pqqA_kt_c').charge = 0\n",
    "model.metabolites.get_by_id('pqqAc_kt_c').formula = 'RC14H9N2O3'\n",
    "model.metabolites.get_by_id('pqqAc_kt_c').charge = 0\n",
    "model.reactions.get_by_id('PQQAC').add_metabolites({'amet_c': -1.0, 'met__L_c': 1.0, 'dad_5_c': 1.0, 'h_c': -1.0})\n",
    "model.reactions.get_by_id('PQQFEP').gene_reaction_rule = 'PP_0380 and PP_0381'\n",
    "model.metabolites.get_by_id('4pqq_c').formula = 'C14H17N2O7'\n",
    "model.metabolites.get_by_id('4pqq_c').charge = -1\n",
    "model.metabolites.get_by_id('3pqq_c').formula = 'C14H17N2O7'\n",
    "model.metabolites.get_by_id('3pqq_c').charge = -1\n",
    "model.reactions.get_by_id('2PQQS').add_metabolites({'h_c': 1.0})\n",
    "model.metabolites.get_by_id('2pqq_c').formula = 'C14H14N2O6'\n",
    "model.metabolites.get_by_id('2pqq_c').charge = -2\n",
    "model.metabolites.get_by_id('1pqq_c').formula = 'C14H14N2O8'\n",
    "model.metabolites.get_by_id('1pqq_c').charge = -2\n",
    "model.reactions.get_by_id('PQQH2S').add_metabolites({'h_c': 1.0})"
   ]
  },
  {
   "cell_type": "code",
   "execution_count": 12,
   "metadata": {},
   "outputs": [
    {
     "name": "stdout",
     "output_type": "stream",
     "text": [
      "BVMO5: h_c + nadph_c + o2_c + und2one_c --> h2o_c + 0.22 methdca_c + nadp_c + 0.78 nnac_c PP_2805\n",
      "{'O': 1.3322676295501878e-15, 'C': 1.7763568394002505e-15}\n",
      "h2o_c H2O 0\n",
      "h_c H 1\n",
      "methdca_c C11H22O2 0\n",
      "nadp_c C21H25N7O17P3 -3\n",
      "nadph_c C21H26N7O17P3 -4\n",
      "nnac_c C11H22O2 0\n",
      "o2_c O2 0\n",
      "und2one_c C11H22O 0\n",
      "\n"
     ]
    }
   ],
   "source": [
    "for r in model.reactions:\n",
    "    if not r.boundary and not 'BIOMASS' in r.id and r.check_mass_balance():\n",
    "        print(r, r.gene_reaction_rule)\n",
    "        print(r.check_mass_balance())\n",
    "        for m in r.metabolites:\n",
    "            print(m.id, m.formula, m.charge)\n",
    "        print()"
   ]
  },
  {
   "cell_type": "markdown",
   "metadata": {},
   "source": [
    "#### Check duplicate reactions"
   ]
  },
  {
   "cell_type": "code",
   "execution_count": 13,
   "metadata": {
    "scrolled": true
   },
   "outputs": [
    {
     "name": "stdout",
     "output_type": "stream",
     "text": [
      "AKGDb_copy1: coa_c + sdhlam_c <=> dhlam_c + succoa_c PP_4188\n",
      "AKGDb_copy2: coa_c + sdhlam_c --> dhlam_c + succoa_c PP_4188\n",
      "ALDD3y_copy1: h2o_c + nadp_c + ppal_c --> 2.0 h_c + nadph_c + ppa_c \n",
      "ALDD3y_copy2: h2o_c + nadp_c + ppal_c --> 2.0 h_c + nadph_c + ppa_c PP_2492\n",
      "DHAD1_copy1: 23dhmb_c --> 3mob_c + h2o_c PP_5128\n",
      "DHAD1_copy2: 23dhmb_c --> 3mob_c + h2o_c PP_5128\n",
      "DHQTi_copy1: 3dhq_c <=> 3dhsk_c + h2o_c PP_0560 or PP_3003 or PP_2407\n",
      "DHQTi_copy2: 3dhq_c --> 3dhsk_c + h2o_c PP_0560 or PP_2407 or PP_3003\n",
      "FMNRx2_copy1: fmn_c + h_c + nadph_c <=> fmnh2_c + nadp_c PP_1638\n",
      "FMNRx2_copy2: fmn_c + h_c + nadph_c --> fmnh2_c + nadp_c PP_0236 or PP_1638 or PP_4646\n",
      "G5SD_copy1: glu5p_c + h_c + nadph_c --> glu5sa_c + nadp_c + pi_c PP_4811\n",
      "G5SD_copy2: glu5p_c + h_c + nadph_c <=> glu5sa_c + nadp_c + pi_c PP_4811\n",
      "GLNS_copy1: atp_c + glu__L_c + nh4_c --> adp_c + gln__L_c + h_c + pi_c PP_5046\n",
      "GLNS_copy2: atp_c + glu__L_c + nh4_c --> adp_c + gln__L_c + h_c + pi_c PP_5046\n",
      "GLUCYS_copy1: atp_c + cys__L_c + glu__L_c --> adp_c + glucys_c + h_c + pi_c PP_0243\n",
      "GLUCYS_copy2: atp_c + cys__L_c + glu__L_c --> adp_c + glucys_c + h_c + pi_c PP_0243 or PP_3253\n",
      "HMR_0180_copy1: atp_c + coa_c + dca_c --> amp_c + dcacoa_c + ppi_c PP_4549 or PP_4550\n",
      "HMR_0180_copy2: atp_c + coa_c + dca_c --> amp_c + dcacoa_c + ppi_c PP_0763 or PP_3553 or PP_4243 or PP_4549 or PP_4550\n",
      "MECDPS_copy1: 2p4c2me_c --> 2mecdp_c + cmp_c PP_1618\n",
      "MECDPS_copy2: 2p4c2me_c --> 2mecdp_c + cmp_c PP_1618\n",
      "NAt3pp_copy1: h_p + na1_c <=> h_c + na1_p PP_1587 or PP_4974\n",
      "NAt3pp_copy2: h_p + na1_c --> h_c + na1_p PP_2230 and PP_2229 and PP_2228 and PP_2227 and PP_2226 and PP_2225\n",
      "PRAIi_copy1: pran_c --> 2cpr5p_c PP_1995\n",
      "PRAIi_copy2: pran_c --> 2cpr5p_c PP_1995\n",
      "PRAMPC_copy1: h2o_c + prbamp_c --> prfp_c PP_5014\n",
      "PRAMPC_copy2: h2o_c + prbamp_c --> prfp_c PP_3320 or PP_5014\n",
      "PRASCSi_copy1: 5aizc_c + asp__L_c + atp_c --> 25aics_c + adp_c + h_c + pi_c PP_1240\n",
      "PRASCSi_copy2: 5aizc_c + asp__L_c + atp_c --> 25aics_c + adp_c + h_c + pi_c PP_1240\n",
      "PRMICI_copy1: prfp_c <=> prlp_c PP_0292\n",
      "PRMICI_copy2: prfp_c --> prlp_c PP_0292 or PP_0293\n",
      "PSCVT_copy1: pep_c + skm5p_c <=> 3psme_c + pi_c PP_1770\n",
      "PSCVT_copy2: pep_c + skm5p_c --> 3psme_c + pi_c PP_1770\n",
      "SERAT_copy1: accoa_c + ser__L_c <=> acser_c + coa_c PP_0840 or PP_0228\n",
      "SERAT_copy2: accoa_c + ser__L_c --> acser_c + coa_c PP_0228 or PP_0840 or PP_1110 or PP_3136\n",
      "TRPS1_copy1: 3ig3p_c + ser__L_c --> g3p_c + h2o_c + trp__L_c PP_0082 and PP_0083\n",
      "TRPS1_copy2: 3ig3p_c + ser__L_c --> g3p_c + h2o_c + trp__L_c PP_0082 and PP_0083\n",
      "VALTRS_copy1: atp_c + trnaval_c + val__L_c --> amp_c + ppi_c + valtrna_c PP_0977\n",
      "VALTRS_copy2: atp_c + trnaval_c + val__L_c --> amp_c + ppi_c + valtrna_c PP_0977\n"
     ]
    }
   ],
   "source": [
    "for r in sorted(model.reactions, key=lambda x:x.id):\n",
    "    if 'copy' in r.id:\n",
    "        print(r, r.gene_reaction_rule)"
   ]
  },
  {
   "cell_type": "markdown",
   "metadata": {},
   "source": [
    "Keep them for now, it would not make a difference in model predictions"
   ]
  },
  {
   "cell_type": "markdown",
   "metadata": {},
   "source": [
    "#### Remove duplicate reactions for PDH/AKGDH/GLYCL"
   ]
  },
  {
   "cell_type": "code",
   "execution_count": 14,
   "metadata": {
    "scrolled": true
   },
   "outputs": [
    {
     "name": "stdout",
     "output_type": "stream",
     "text": [
      "PDH: coa_c + nad_c + pyr_c --> accoa_c + co2_c + nadh_c (PP_0339 and PP_0338 and PP_4187) or (PP_0339 and PP_0338 and PP_5366)\n",
      "PDHbr: adhlam_c + coa_c <=> accoa_c + dhlam_c PP_0338\n",
      "\n",
      "PDH: coa_c + nad_c + pyr_c --> accoa_c + co2_c + nadh_c (PP_0339 and PP_0338 and PP_4187) or (PP_0339 and PP_0338 and PP_5366)\n",
      "PDHa: h_c + lpam_c + pyr_c --> adhlam_c + co2_c PP_0339\n",
      "\n",
      "FOMETRi: 5fthf_c + h_c --> h2o_c + methf_c PP_0986 or PP_5194\n",
      "GLYCL: gly_c + nad_c + thf_c --> co2_c + mlthf_c + nadh_c + nh4_c (PP_5193 and PP_5192 and PP_5194 and PP_4187) or (PP_0989 and PP_0988 and PP_0986 and PP_4187)\n",
      "\n",
      "GLYCL: gly_c + nad_c + thf_c --> co2_c + mlthf_c + nadh_c + nh4_c (PP_5193 and PP_5192 and PP_5194 and PP_4187) or (PP_0989 and PP_0988 and PP_0986 and PP_4187)\n",
      "\n",
      "GLYCL: gly_c + nad_c + thf_c --> co2_c + mlthf_c + nadh_c + nh4_c (PP_5193 and PP_5192 and PP_5194 and PP_4187) or (PP_0989 and PP_0988 and PP_0986 and PP_4187)\n",
      "\n",
      "AKGDH: akg_c + coa_c + nad_c --> co2_c + nadh_c + succoa_c PP_4189 and PP_4188 and PP_4187\n",
      "PDH: coa_c + nad_c + pyr_c --> accoa_c + co2_c + nadh_c (PP_0339 and PP_0338 and PP_4187) or (PP_0339 and PP_0338 and PP_5366)\n",
      "PDHcr: dhlam_c + nad_c <=> h_c + lpam_c + nadh_c PP_5366 or PP_4187\n",
      "GLYCL: gly_c + nad_c + thf_c --> co2_c + mlthf_c + nadh_c + nh4_c (PP_5193 and PP_5192 and PP_5194 and PP_4187) or (PP_0989 and PP_0988 and PP_0986 and PP_4187)\n",
      "\n",
      "AKGDH: akg_c + coa_c + nad_c --> co2_c + nadh_c + succoa_c PP_4189 and PP_4188 and PP_4187\n",
      "AKGDb_copy2: coa_c + sdhlam_c --> dhlam_c + succoa_c PP_4188\n",
      "AKGDb_copy1: coa_c + sdhlam_c <=> dhlam_c + succoa_c PP_4188\n",
      "OXOADLR: 2oxoadp_c + h_c + lpam_c --> S_gtrdhdlp_c + co2_c PP_4188\n",
      "\n",
      "AKGDH: akg_c + coa_c + nad_c --> co2_c + nadh_c + succoa_c PP_4189 and PP_4188 and PP_4187\n",
      "GLCOASYNT: S_gtrdhdlp_c + coa_c --> dhlam_c + glutcoa_c PP_4189\n",
      "AKGDa: akg_c + h_c + lpam_c <=> co2_c + sdhlam_c PP_4189\n",
      "\n",
      "GLYCL: gly_c + nad_c + thf_c --> co2_c + mlthf_c + nadh_c + nh4_c (PP_5193 and PP_5192 and PP_5194 and PP_4187) or (PP_0989 and PP_0988 and PP_0986 and PP_4187)\n",
      "\n",
      "GLYCL: gly_c + nad_c + thf_c --> co2_c + mlthf_c + nadh_c + nh4_c (PP_5193 and PP_5192 and PP_5194 and PP_4187) or (PP_0989 and PP_0988 and PP_0986 and PP_4187)\n",
      "\n",
      "FOMETRi: 5fthf_c + h_c --> h2o_c + methf_c PP_0986 or PP_5194\n",
      "GLYCL: gly_c + nad_c + thf_c --> co2_c + mlthf_c + nadh_c + nh4_c (PP_5193 and PP_5192 and PP_5194 and PP_4187) or (PP_0989 and PP_0988 and PP_0986 and PP_4187)\n",
      "\n",
      "PDH: coa_c + nad_c + pyr_c --> accoa_c + co2_c + nadh_c (PP_0339 and PP_0338 and PP_4187) or (PP_0339 and PP_0338 and PP_5366)\n",
      "PDHcr: dhlam_c + nad_c <=> h_c + lpam_c + nadh_c PP_5366 or PP_4187\n",
      "\n"
     ]
    }
   ],
   "source": [
    "for x in ['PP_0338','PP_0339','PP_0986','PP_0988','PP_0989','PP_4187','PP_4188','PP_4189',\n",
    "          'PP_5192','PP_5193','PP_5194','PP_5366']:\n",
    "    for r in model.genes.get_by_id(x).reactions:\n",
    "        print(r, r.gene_reaction_rule)\n",
    "    print()"
   ]
  },
  {
   "cell_type": "code",
   "execution_count": 15,
   "metadata": {},
   "outputs": [
    {
     "name": "stdout",
     "output_type": "stream",
     "text": [
      "0.5838113260876141\n",
      "0.5838113260876154\n"
     ]
    }
   ],
   "source": [
    "with model:\n",
    "    sol = model.optimize()\n",
    "    print(sol.objective_value)\n",
    "\n",
    "    # compare whether removing reactions affects the FBA results\n",
    "    temp = ['AKGDa','AKGDb_copy1','AKGDb_copy2','PDHa','PDHbr']\n",
    "    model.remove_reactions(temp, remove_orphans=True)\n",
    "    model.reactions.PDHcr.lower_bound = 0.0\n",
    "    sol = model.optimize()\n",
    "    print(sol.objective_value)    "
   ]
  },
  {
   "cell_type": "code",
   "execution_count": 16,
   "metadata": {
    "scrolled": true
   },
   "outputs": [
    {
     "name": "stdout",
     "output_type": "stream",
     "text": [
      "PDH: coa_c + nad_c + pyr_c --> accoa_c + co2_c + nadh_c (PP_0339 and PP_0338 and PP_4187) or (PP_0339 and PP_0338 and PP_5366)\n",
      "PDHbr: adhlam_c + coa_c <=> accoa_c + dhlam_c PP_0338\n",
      "\n",
      "PDH: coa_c + nad_c + pyr_c --> accoa_c + co2_c + nadh_c (PP_0339 and PP_0338 and PP_4187) or (PP_0339 and PP_0338 and PP_5366)\n",
      "PDHa: h_c + lpam_c + pyr_c --> adhlam_c + co2_c PP_0339\n",
      "\n",
      "FOMETRi: 5fthf_c + h_c --> h2o_c + methf_c PP_0986 or PP_5194\n",
      "GLYCL: gly_c + nad_c + thf_c --> co2_c + mlthf_c + nadh_c + nh4_c (PP_5193 and PP_5192 and PP_5194 and PP_4187) or (PP_0989 and PP_0988 and PP_0986 and PP_4187)\n",
      "\n",
      "GLYCL: gly_c + nad_c + thf_c --> co2_c + mlthf_c + nadh_c + nh4_c (PP_5193 and PP_5192 and PP_5194 and PP_4187) or (PP_0989 and PP_0988 and PP_0986 and PP_4187)\n",
      "\n",
      "GLYCL: gly_c + nad_c + thf_c --> co2_c + mlthf_c + nadh_c + nh4_c (PP_5193 and PP_5192 and PP_5194 and PP_4187) or (PP_0989 and PP_0988 and PP_0986 and PP_4187)\n",
      "\n",
      "AKGDH: akg_c + coa_c + nad_c --> co2_c + nadh_c + succoa_c PP_4189 and PP_4188 and PP_4187\n",
      "PDH: coa_c + nad_c + pyr_c --> accoa_c + co2_c + nadh_c (PP_0339 and PP_0338 and PP_4187) or (PP_0339 and PP_0338 and PP_5366)\n",
      "PDHcr: dhlam_c + nad_c <=> h_c + lpam_c + nadh_c PP_5366 or PP_4187\n",
      "GLYCL: gly_c + nad_c + thf_c --> co2_c + mlthf_c + nadh_c + nh4_c (PP_5193 and PP_5192 and PP_5194 and PP_4187) or (PP_0989 and PP_0988 and PP_0986 and PP_4187)\n",
      "\n",
      "AKGDH: akg_c + coa_c + nad_c --> co2_c + nadh_c + succoa_c PP_4189 and PP_4188 and PP_4187\n",
      "AKGDb_copy2: coa_c + sdhlam_c --> dhlam_c + succoa_c PP_4188\n",
      "AKGDb_copy1: coa_c + sdhlam_c <=> dhlam_c + succoa_c PP_4188\n",
      "OXOADLR: 2oxoadp_c + h_c + lpam_c --> S_gtrdhdlp_c + co2_c PP_4188\n",
      "\n",
      "AKGDH: akg_c + coa_c + nad_c --> co2_c + nadh_c + succoa_c PP_4189 and PP_4188 and PP_4187\n",
      "GLCOASYNT: S_gtrdhdlp_c + coa_c --> dhlam_c + glutcoa_c PP_4189\n",
      "AKGDa: akg_c + h_c + lpam_c <=> co2_c + sdhlam_c PP_4189\n",
      "\n",
      "GLYCL: gly_c + nad_c + thf_c --> co2_c + mlthf_c + nadh_c + nh4_c (PP_5193 and PP_5192 and PP_5194 and PP_4187) or (PP_0989 and PP_0988 and PP_0986 and PP_4187)\n",
      "\n",
      "GLYCL: gly_c + nad_c + thf_c --> co2_c + mlthf_c + nadh_c + nh4_c (PP_5193 and PP_5192 and PP_5194 and PP_4187) or (PP_0989 and PP_0988 and PP_0986 and PP_4187)\n",
      "\n",
      "FOMETRi: 5fthf_c + h_c --> h2o_c + methf_c PP_0986 or PP_5194\n",
      "GLYCL: gly_c + nad_c + thf_c --> co2_c + mlthf_c + nadh_c + nh4_c (PP_5193 and PP_5192 and PP_5194 and PP_4187) or (PP_0989 and PP_0988 and PP_0986 and PP_4187)\n",
      "\n",
      "PDH: coa_c + nad_c + pyr_c --> accoa_c + co2_c + nadh_c (PP_0339 and PP_0338 and PP_4187) or (PP_0339 and PP_0338 and PP_5366)\n",
      "PDHcr: dhlam_c + nad_c <=> h_c + lpam_c + nadh_c PP_5366 or PP_4187\n",
      "\n"
     ]
    }
   ],
   "source": [
    "for x in ['PP_0338','PP_0339','PP_0986','PP_0988','PP_0989','PP_4187','PP_4188','PP_4189',\n",
    "          'PP_5192','PP_5193','PP_5194','PP_5366']:\n",
    "    for r in model.genes.get_by_id(x).reactions:\n",
    "        print(r, r.gene_reaction_rule)\n",
    "    print()"
   ]
  },
  {
   "cell_type": "markdown",
   "metadata": {},
   "source": [
    "#### Check the boundary condition"
   ]
  },
  {
   "cell_type": "code",
   "execution_count": 17,
   "metadata": {
    "scrolled": true
   },
   "outputs": [
    {
     "data": {
      "text/plain": [
       "{'EX_ca2_e': 10.0,\n",
       " 'EX_cl_e': 10.0,\n",
       " 'EX_co2_e': 100.0,\n",
       " 'EX_cobalt2_e': 10.0,\n",
       " 'EX_cu2_e': 10.0,\n",
       " 'EX_fe2_e': 10.0,\n",
       " 'EX_glc__D_e': 6.0,\n",
       " 'EX_h2o_e': 100.0,\n",
       " 'EX_h_e': 100.0,\n",
       " 'EX_hco3_e': 10.0,\n",
       " 'EX_k_e': 10.0,\n",
       " 'EX_mg2_e': 10.0,\n",
       " 'EX_mn2_e': 10.0,\n",
       " 'EX_mobd_e': 10.0,\n",
       " 'EX_na1_e': 10.0,\n",
       " 'EX_nh4_e': 30.0,\n",
       " 'EX_ni2_e': 10.0,\n",
       " 'EX_o2_e': 100.0,\n",
       " 'EX_pi_e': 10.0,\n",
       " 'EX_sel_e': 10.0,\n",
       " 'EX_so4_e': 10.0,\n",
       " 'EX_tungs_e': 10.0,\n",
       " 'EX_zn2_e': 10.0,\n",
       " 'EX_acmtsoxin_e': 1000.0,\n",
       " 'EX_acpptrn_e': 1000.0,\n",
       " 'EX_d2one_e': 1000.0,\n",
       " 'EX_d3one_e': 1000.0,\n",
       " 'EX_d4one_e': 1000.0,\n",
       " 'EX_mtsoxin_e': 1000.0,\n",
       " 'EX_n2one_e': 1000.0,\n",
       " 'EX_pptrn_e': 1000.0,\n",
       " 'EX_und2one_e': 1000.0}"
      ]
     },
     "execution_count": 17,
     "metadata": {},
     "output_type": "execute_result"
    }
   ],
   "source": [
    "model.medium"
   ]
  },
  {
   "cell_type": "code",
   "execution_count": 18,
   "metadata": {},
   "outputs": [
    {
     "name": "stdout",
     "output_type": "stream",
     "text": [
      "EX_acmtsoxin_e: acmtsoxin_e <=>  N Acetylmethionine sulfoximine exchange\n",
      "EX_acpptrn_e: acpptrn_e <=>  N Acetylphosphinothricin exchange\n",
      "EX_d2one_e: d2one_e <=>  2 Decanone exchange\n",
      "EX_d3one_e: d3one_e <=>  3 Decanone exchange\n",
      "EX_d4one_e: d4one_e <=>  4 Decanone exchange\n",
      "EX_mtsoxin_e: mtsoxin_e <=>  Methionine sulfoximine exchange\n",
      "EX_n2one_e: n2one_e <=>  2 Nonanone exchange\n",
      "EX_pptrn_e: pptrn_e <=>  L Phosphinothricin exchange\n",
      "EX_und2one_e: und2one_e <=>  2 Undecanone exchange\n"
     ]
    }
   ],
   "source": [
    "for x in ['EX_acmtsoxin_e', 'EX_acpptrn_e', 'EX_d2one_e', 'EX_d3one_e', 'EX_d4one_e', 'EX_mtsoxin_e',\n",
    "          'EX_n2one_e', 'EX_pptrn_e', 'EX_und2one_e']:\n",
    "    r = model.reactions.get_by_id(x)\n",
    "    print(r, r.name)"
   ]
  },
  {
   "cell_type": "code",
   "execution_count": 19,
   "metadata": {},
   "outputs": [
    {
     "name": "stdout",
     "output_type": "stream",
     "text": [
      "0.5838113260876157\n",
      "0.5838113260876154\n"
     ]
    }
   ],
   "source": [
    "with model:\n",
    "    sol = model.optimize()\n",
    "    print(sol.objective_value)\n",
    "    \n",
    "    # compare whether removing reactions affects the FBA results\n",
    "    for x in ['EX_acmtsoxin_e', 'EX_acpptrn_e', 'EX_d2one_e', 'EX_d3one_e', 'EX_d4one_e', 'EX_mtsoxin_e',\n",
    "              'EX_n2one_e', 'EX_pptrn_e', 'EX_und2one_e']:\n",
    "        model.reactions.get_by_id(x).lower_bound = 0.0\n",
    "    sol = model.optimize()\n",
    "    print(sol.objective_value)"
   ]
  },
  {
   "cell_type": "code",
   "execution_count": 20,
   "metadata": {},
   "outputs": [],
   "source": [
    "for x in ['EX_acmtsoxin_e', 'EX_acpptrn_e', 'EX_d2one_e', 'EX_d3one_e', 'EX_d4one_e', 'EX_mtsoxin_e',\n",
    "          'EX_n2one_e', 'EX_pptrn_e', 'EX_und2one_e']:\n",
    "    model.reactions.get_by_id(x).lower_bound = 0.0"
   ]
  },
  {
   "cell_type": "markdown",
   "metadata": {},
   "source": [
    "#### Check other reactions with non-zero bounds"
   ]
  },
  {
   "cell_type": "code",
   "execution_count": 21,
   "metadata": {
    "scrolled": true
   },
   "outputs": [
    {
     "name": "stdout",
     "output_type": "stream",
     "text": [
      "EX_ca2_e: ca2_e <=>  (-10.0, 999999.0)\n",
      "EX_cl_e: cl_e <=>  (-10.0, 999999.0)\n",
      "EX_co2_e: co2_e <=>  (-100.0, 999999.0)\n",
      "EX_cobalt2_e: cobalt2_e <=>  (-10.0, 999999.0)\n",
      "EX_cu2_e: cu2_e <=>  (-10.0, 999999.0)\n",
      "EX_fe2_e: fe2_e <=>  (-10.0, 999999.0)\n",
      "EX_glc__D_e: glc__D_e <=>  (-6.0, 1000.0)\n",
      "EX_h2o_e: h2o_e <=>  (-100.0, 999999.0)\n",
      "EX_h_e: h_e <=>  (-100.0, 999999.0)\n",
      "EX_hco3_e: hco3_e <=>  (-10.0, 999999.0)\n",
      "EX_k_e: k_e <=>  (-10.0, 999999.0)\n",
      "EX_mg2_e: mg2_e <=>  (-10.0, 999999.0)\n",
      "EX_mn2_e: mn2_e <=>  (-10.0, 999999.0)\n",
      "EX_mobd_e: mobd_e <=>  (-10.0, 999999.0)\n",
      "EX_na1_e: na1_e <=>  (-10.0, 999999.0)\n",
      "EX_nh4_e: nh4_e <=>  (-30.0, 1000.0)\n",
      "EX_ni2_e: ni2_e <=>  (-10.0, 999999.0)\n",
      "EX_o2_e: o2_e <--  (-100.0, 0.0)\n",
      "EX_pi_e: pi_e <=>  (-10.0, 999999.0)\n",
      "EX_sel_e: sel_e <=>  (-10.0, 999999.0)\n",
      "EX_so4_e: so4_e <=>  (-10.0, 999999.0)\n",
      "EX_tungs_e: tungs_e <=>  (-10.0, 999999.0)\n",
      "EX_zn2_e: zn2_e <=>  (-10.0, 999999.0)\n",
      "SK_pqqA_kt_c: pqqA_kt_c <--  (-1.0, 0.0)\n",
      "ATPM: atp_c + h2o_c --> adp_c + h_c + pi_c (0.92, 0.92)\n",
      "\n",
      "ATPM: atp_c + h2o_c --> adp_c + h_c + pi_c (0.92, 0.92)\n"
     ]
    }
   ],
   "source": [
    "for r in model.reactions:\n",
    "    if r.lower_bound > -1000.0 and r.lower_bound:\n",
    "        print(r, r.bounds)\n",
    "print()\n",
    "for r in model.reactions:\n",
    "    if r.upper_bound < 1000.0 and r.upper_bound:\n",
    "        print(r, r.bounds)"
   ]
  },
  {
   "cell_type": "markdown",
   "metadata": {},
   "source": [
    "#### Replace arbitrary bounds with -1000.0 or 1000.0"
   ]
  },
  {
   "cell_type": "code",
   "execution_count": 22,
   "metadata": {},
   "outputs": [
    {
     "name": "stdout",
     "output_type": "stream",
     "text": [
      "0.5838113260876154\n",
      "0.5838113260876154\n"
     ]
    }
   ],
   "source": [
    "with model:\n",
    "    sol = model.optimize()\n",
    "    print(sol.objective_value)\n",
    "    for r in model.reactions:\n",
    "        if r.lower_bound < -1000.0 and r.lower_bound and r.id not in ['ATPM','EX_glc__D_e']:\n",
    "            r.lower_bound = -1000.0\n",
    "    sol = model.optimize()\n",
    "    print(sol.objective_value)"
   ]
  },
  {
   "cell_type": "code",
   "execution_count": 23,
   "metadata": {},
   "outputs": [],
   "source": [
    "for r in model.reactions:\n",
    "    if r.lower_bound < -1000.0 and r.lower_bound and r.id not in ['ATPM','EX_glc__D_e']:\n",
    "        r.lower_bound = -1000.0"
   ]
  },
  {
   "cell_type": "code",
   "execution_count": 24,
   "metadata": {},
   "outputs": [],
   "source": [
    "for r in model.reactions:\n",
    "    if r.lower_bound <= -1000.0:\n",
    "        r.lower_bound = -1000.0\n",
    "    if r.upper_bound >= 1000.0:\n",
    "        r.upper_bound = 1000.0"
   ]
  },
  {
   "cell_type": "code",
   "execution_count": 25,
   "metadata": {
    "scrolled": true
   },
   "outputs": [
    {
     "data": {
      "text/html": [
       "<h3>Objective</h3><p>1.0 BIOMASS_KT2440_WT3 = 0.5838113260876154</p><h4>Uptake</h4><table border=\"1\" class=\"dataframe\">\n",
       "  <thead>\n",
       "    <tr style=\"text-align: right;\">\n",
       "      <th>Metabolite</th>\n",
       "      <th>Reaction</th>\n",
       "      <th>Flux</th>\n",
       "      <th>C-Number</th>\n",
       "      <th>C-Flux</th>\n",
       "    </tr>\n",
       "  </thead>\n",
       "  <tbody>\n",
       "    <tr>\n",
       "      <td>ca2_e</td>\n",
       "      <td>EX_ca2_e</td>\n",
       "      <td>0.002467</td>\n",
       "      <td>0</td>\n",
       "      <td>0.00%</td>\n",
       "    </tr>\n",
       "    <tr>\n",
       "      <td>cl_e</td>\n",
       "      <td>EX_cl_e</td>\n",
       "      <td>0.002467</td>\n",
       "      <td>0</td>\n",
       "      <td>0.00%</td>\n",
       "    </tr>\n",
       "    <tr>\n",
       "      <td>cobalt2_e</td>\n",
       "      <td>EX_cobalt2_e</td>\n",
       "      <td>0.001775</td>\n",
       "      <td>0</td>\n",
       "      <td>0.00%</td>\n",
       "    </tr>\n",
       "    <tr>\n",
       "      <td>cu2_e</td>\n",
       "      <td>EX_cu2_e</td>\n",
       "      <td>0.001645</td>\n",
       "      <td>0</td>\n",
       "      <td>0.00%</td>\n",
       "    </tr>\n",
       "    <tr>\n",
       "      <td>fe2_e</td>\n",
       "      <td>EX_fe2_e</td>\n",
       "      <td>0.008574</td>\n",
       "      <td>0</td>\n",
       "      <td>0.00%</td>\n",
       "    </tr>\n",
       "    <tr>\n",
       "      <td>glc__D_e</td>\n",
       "      <td>EX_glc__D_e</td>\n",
       "      <td>6</td>\n",
       "      <td>6</td>\n",
       "      <td>99.99%</td>\n",
       "    </tr>\n",
       "    <tr>\n",
       "      <td>k_e</td>\n",
       "      <td>EX_k_e</td>\n",
       "      <td>0.09254</td>\n",
       "      <td>0</td>\n",
       "      <td>0.00%</td>\n",
       "    </tr>\n",
       "    <tr>\n",
       "      <td>mg2_e</td>\n",
       "      <td>EX_mg2_e</td>\n",
       "      <td>0.004112</td>\n",
       "      <td>0</td>\n",
       "      <td>0.00%</td>\n",
       "    </tr>\n",
       "    <tr>\n",
       "      <td>mn2_e</td>\n",
       "      <td>EX_mn2_e</td>\n",
       "      <td>0.001645</td>\n",
       "      <td>0</td>\n",
       "      <td>0.00%</td>\n",
       "    </tr>\n",
       "    <tr>\n",
       "      <td>mobd_e</td>\n",
       "      <td>EX_mobd_e</td>\n",
       "      <td>0.001905</td>\n",
       "      <td>0</td>\n",
       "      <td>0.00%</td>\n",
       "    </tr>\n",
       "    <tr>\n",
       "      <td>na1_e</td>\n",
       "      <td>EX_na1_e</td>\n",
       "      <td>0.002056</td>\n",
       "      <td>0</td>\n",
       "      <td>0.00%</td>\n",
       "    </tr>\n",
       "    <tr>\n",
       "      <td>nh4_e</td>\n",
       "      <td>EX_nh4_e</td>\n",
       "      <td>6.214</td>\n",
       "      <td>0</td>\n",
       "      <td>0.00%</td>\n",
       "    </tr>\n",
       "    <tr>\n",
       "      <td>ni2_e</td>\n",
       "      <td>EX_ni2_e</td>\n",
       "      <td>0.001645</td>\n",
       "      <td>0</td>\n",
       "      <td>0.00%</td>\n",
       "    </tr>\n",
       "    <tr>\n",
       "      <td>o2_e</td>\n",
       "      <td>EX_o2_e</td>\n",
       "      <td>11.52</td>\n",
       "      <td>0</td>\n",
       "      <td>0.00%</td>\n",
       "    </tr>\n",
       "    <tr>\n",
       "      <td>pi_e</td>\n",
       "      <td>EX_pi_e</td>\n",
       "      <td>0.537</td>\n",
       "      <td>0</td>\n",
       "      <td>0.00%</td>\n",
       "    </tr>\n",
       "    <tr>\n",
       "      <td>so4_e</td>\n",
       "      <td>EX_so4_e</td>\n",
       "      <td>0.1086</td>\n",
       "      <td>0</td>\n",
       "      <td>0.00%</td>\n",
       "    </tr>\n",
       "    <tr>\n",
       "      <td>zn2_e</td>\n",
       "      <td>EX_zn2_e</td>\n",
       "      <td>0.001645</td>\n",
       "      <td>0</td>\n",
       "      <td>0.00%</td>\n",
       "    </tr>\n",
       "    <tr>\n",
       "      <td>pqqA_kt_c</td>\n",
       "      <td>SK_pqqA_kt_c</td>\n",
       "      <td>0.0001302</td>\n",
       "      <td>14</td>\n",
       "      <td>0.01%</td>\n",
       "    </tr>\n",
       "  </tbody>\n",
       "</table><h4>Secretion</h4><table border=\"1\" class=\"dataframe\">\n",
       "  <thead>\n",
       "    <tr style=\"text-align: right;\">\n",
       "      <th>Metabolite</th>\n",
       "      <th>Reaction</th>\n",
       "      <th>Flux</th>\n",
       "      <th>C-Number</th>\n",
       "      <th>C-Flux</th>\n",
       "    </tr>\n",
       "  </thead>\n",
       "  <tbody>\n",
       "    <tr>\n",
       "      <td>5drib_c</td>\n",
       "      <td>DM_5drib_c</td>\n",
       "      <td>-0.0005208</td>\n",
       "      <td>5</td>\n",
       "      <td>0.02%</td>\n",
       "    </tr>\n",
       "    <tr>\n",
       "      <td>amob_c</td>\n",
       "      <td>DM_amob_c</td>\n",
       "      <td>-0.0001302</td>\n",
       "      <td>15</td>\n",
       "      <td>0.02%</td>\n",
       "    </tr>\n",
       "    <tr>\n",
       "      <td>doxopa_c</td>\n",
       "      <td>DM_doxopa_c</td>\n",
       "      <td>-0.0001302</td>\n",
       "      <td>3</td>\n",
       "      <td>0.00%</td>\n",
       "    </tr>\n",
       "    <tr>\n",
       "      <td>tripeptide_c</td>\n",
       "      <td>DM_tripeptide_c</td>\n",
       "      <td>-0.0001302</td>\n",
       "      <td>0</td>\n",
       "      <td>0.00%</td>\n",
       "    </tr>\n",
       "    <tr>\n",
       "      <td>co2_e</td>\n",
       "      <td>EX_co2_e</td>\n",
       "      <td>-12.49</td>\n",
       "      <td>1</td>\n",
       "      <td>99.96%</td>\n",
       "    </tr>\n",
       "    <tr>\n",
       "      <td>h2o_e</td>\n",
       "      <td>EX_h2o_e</td>\n",
       "      <td>-27.79</td>\n",
       "      <td>0</td>\n",
       "      <td>0.00%</td>\n",
       "    </tr>\n",
       "    <tr>\n",
       "      <td>h_e</td>\n",
       "      <td>EX_h_e</td>\n",
       "      <td>-5.474</td>\n",
       "      <td>0</td>\n",
       "      <td>0.00%</td>\n",
       "    </tr>\n",
       "  </tbody>\n",
       "</table>"
      ],
      "text/plain": [
       "<cobra.summary.model_summary.ModelSummary at 0x1a5ee6d8cd0>"
      ]
     },
     "execution_count": 25,
     "metadata": {},
     "output_type": "execute_result"
    }
   ],
   "source": [
    "model.summary()"
   ]
  },
  {
   "cell_type": "markdown",
   "metadata": {},
   "source": [
    "#### Remove PPCK; PP_0253 is annotated as a pseudogene\n",
    "\n",
    "`PP_0253` is annotated as a pseudogene due to a frameshift mutation that results in the loss of function. \n",
    "\n",
    "Copied below is the summary from \n",
    "\n",
    "Belda, E., van Heck, R. G. A., José Lopez-Sanchez, M., Cruveiller, S., Barbe, V., Fraser, C., Klenk, H.-P., Petersen, J., Morgat, A., Nikel, P. I., Vallenet, D., Rouy, Z., Sekowska, A., Martins Dos Santos, V. A. P., de Lorenzo, V., Danchin, A., & Médigue, C. (2016). The revisited genome of Pseudomonas putida KT2440 enlightens its value as a robust metabolic chassis. Environmental Microbiology, 18(10), 3403–3424. https://doi.org/10.1111/1462-2920.13230\n",
    "\n",
    "Joonhoon\n",
    "\n",
    "```\n",
    "The gene PP_0253 is split into two fragments that have 100% amino acid identity with fragments of the pckA gene encoding phosphoenolpyruvate carboxykinase (ATP dependent) in P. putida F1 (UniProt entry A5VX32). This enzyme is involved in gluconeogenesis, where it catalyzes the conversion of oxaloacetate (OAA) to phosphoenolpyruvate (PEP). The present UniProt functional annotation is supported by sequence similarity using the UniRule annotation procedure (The UniProt Consortium, 2014). Indeed, similarity with an experimentally validated phosphoenolpyruvate carboxykinase is found with the Staphylococcus aureus PckA protein (Q2G1W2, 45.4% amino-acid identity) (Scovill et al., 1996). The underlying reason for this loss of function in strain KT2440 is unknown, but we note that this enzyme is a key enzyme required for gluconeogenesis, under conditions where P. putida strains display a tight regulation of the balance between fluxes going from glucose to pyruvate and from succinate to pyruvate (La Rosa et al., 2015). In Escherichia coli O157:H7, PckA is important for maintaining the pathogenic bacteria in competition with the bulk of the microbiota (Bertin et al., 2014); inactivation of the gene may contribute to the GRAS phenotype of strain KT2440. Additionally, the enzyme is allosterically regulated by Ca21 in other g-proteobacteria (Sudom et al., 2003), and this feature might point at a particular role of the inactivation of this gene in the P. putida KT2440 niche. \n",
    "```\n",
    "\n",
    "\n",
    "#### Update GPR for OAADC from PP_1024 (eda) to PP_1389 (Oxaloacetate decarboxylase)"
   ]
  },
  {
   "cell_type": "code",
   "execution_count": 26,
   "metadata": {},
   "outputs": [
    {
     "data": {
      "text/html": [
       "<h3>Objective</h3><p>1.0 BIOMASS_KT2440_WT3 = 0.5838113260876152</p><h4>Uptake</h4><table border=\"1\" class=\"dataframe\">\n",
       "  <thead>\n",
       "    <tr style=\"text-align: right;\">\n",
       "      <th>Metabolite</th>\n",
       "      <th>Reaction</th>\n",
       "      <th>Flux</th>\n",
       "      <th>C-Number</th>\n",
       "      <th>C-Flux</th>\n",
       "    </tr>\n",
       "  </thead>\n",
       "  <tbody>\n",
       "    <tr>\n",
       "      <td>ca2_e</td>\n",
       "      <td>EX_ca2_e</td>\n",
       "      <td>0.002467</td>\n",
       "      <td>0</td>\n",
       "      <td>0.00%</td>\n",
       "    </tr>\n",
       "    <tr>\n",
       "      <td>cl_e</td>\n",
       "      <td>EX_cl_e</td>\n",
       "      <td>0.002467</td>\n",
       "      <td>0</td>\n",
       "      <td>0.00%</td>\n",
       "    </tr>\n",
       "    <tr>\n",
       "      <td>cobalt2_e</td>\n",
       "      <td>EX_cobalt2_e</td>\n",
       "      <td>0.001775</td>\n",
       "      <td>0</td>\n",
       "      <td>0.00%</td>\n",
       "    </tr>\n",
       "    <tr>\n",
       "      <td>cu2_e</td>\n",
       "      <td>EX_cu2_e</td>\n",
       "      <td>0.001645</td>\n",
       "      <td>0</td>\n",
       "      <td>0.00%</td>\n",
       "    </tr>\n",
       "    <tr>\n",
       "      <td>fe2_e</td>\n",
       "      <td>EX_fe2_e</td>\n",
       "      <td>0.008574</td>\n",
       "      <td>0</td>\n",
       "      <td>0.00%</td>\n",
       "    </tr>\n",
       "    <tr>\n",
       "      <td>glc__D_e</td>\n",
       "      <td>EX_glc__D_e</td>\n",
       "      <td>6</td>\n",
       "      <td>6</td>\n",
       "      <td>99.99%</td>\n",
       "    </tr>\n",
       "    <tr>\n",
       "      <td>k_e</td>\n",
       "      <td>EX_k_e</td>\n",
       "      <td>0.09254</td>\n",
       "      <td>0</td>\n",
       "      <td>0.00%</td>\n",
       "    </tr>\n",
       "    <tr>\n",
       "      <td>mg2_e</td>\n",
       "      <td>EX_mg2_e</td>\n",
       "      <td>0.004112</td>\n",
       "      <td>0</td>\n",
       "      <td>0.00%</td>\n",
       "    </tr>\n",
       "    <tr>\n",
       "      <td>mn2_e</td>\n",
       "      <td>EX_mn2_e</td>\n",
       "      <td>0.001645</td>\n",
       "      <td>0</td>\n",
       "      <td>0.00%</td>\n",
       "    </tr>\n",
       "    <tr>\n",
       "      <td>mobd_e</td>\n",
       "      <td>EX_mobd_e</td>\n",
       "      <td>0.001905</td>\n",
       "      <td>0</td>\n",
       "      <td>0.00%</td>\n",
       "    </tr>\n",
       "    <tr>\n",
       "      <td>na1_e</td>\n",
       "      <td>EX_na1_e</td>\n",
       "      <td>0.002056</td>\n",
       "      <td>0</td>\n",
       "      <td>0.00%</td>\n",
       "    </tr>\n",
       "    <tr>\n",
       "      <td>nh4_e</td>\n",
       "      <td>EX_nh4_e</td>\n",
       "      <td>6.214</td>\n",
       "      <td>0</td>\n",
       "      <td>0.00%</td>\n",
       "    </tr>\n",
       "    <tr>\n",
       "      <td>ni2_e</td>\n",
       "      <td>EX_ni2_e</td>\n",
       "      <td>0.001645</td>\n",
       "      <td>0</td>\n",
       "      <td>0.00%</td>\n",
       "    </tr>\n",
       "    <tr>\n",
       "      <td>o2_e</td>\n",
       "      <td>EX_o2_e</td>\n",
       "      <td>11.52</td>\n",
       "      <td>0</td>\n",
       "      <td>0.00%</td>\n",
       "    </tr>\n",
       "    <tr>\n",
       "      <td>pi_e</td>\n",
       "      <td>EX_pi_e</td>\n",
       "      <td>0.537</td>\n",
       "      <td>0</td>\n",
       "      <td>0.00%</td>\n",
       "    </tr>\n",
       "    <tr>\n",
       "      <td>so4_e</td>\n",
       "      <td>EX_so4_e</td>\n",
       "      <td>0.1086</td>\n",
       "      <td>0</td>\n",
       "      <td>0.00%</td>\n",
       "    </tr>\n",
       "    <tr>\n",
       "      <td>zn2_e</td>\n",
       "      <td>EX_zn2_e</td>\n",
       "      <td>0.001645</td>\n",
       "      <td>0</td>\n",
       "      <td>0.00%</td>\n",
       "    </tr>\n",
       "    <tr>\n",
       "      <td>pqqA_kt_c</td>\n",
       "      <td>SK_pqqA_kt_c</td>\n",
       "      <td>0.0001302</td>\n",
       "      <td>14</td>\n",
       "      <td>0.01%</td>\n",
       "    </tr>\n",
       "  </tbody>\n",
       "</table><h4>Secretion</h4><table border=\"1\" class=\"dataframe\">\n",
       "  <thead>\n",
       "    <tr style=\"text-align: right;\">\n",
       "      <th>Metabolite</th>\n",
       "      <th>Reaction</th>\n",
       "      <th>Flux</th>\n",
       "      <th>C-Number</th>\n",
       "      <th>C-Flux</th>\n",
       "    </tr>\n",
       "  </thead>\n",
       "  <tbody>\n",
       "    <tr>\n",
       "      <td>5drib_c</td>\n",
       "      <td>DM_5drib_c</td>\n",
       "      <td>-0.0005208</td>\n",
       "      <td>5</td>\n",
       "      <td>0.02%</td>\n",
       "    </tr>\n",
       "    <tr>\n",
       "      <td>amob_c</td>\n",
       "      <td>DM_amob_c</td>\n",
       "      <td>-0.0001302</td>\n",
       "      <td>15</td>\n",
       "      <td>0.02%</td>\n",
       "    </tr>\n",
       "    <tr>\n",
       "      <td>doxopa_c</td>\n",
       "      <td>DM_doxopa_c</td>\n",
       "      <td>-0.0001302</td>\n",
       "      <td>3</td>\n",
       "      <td>0.00%</td>\n",
       "    </tr>\n",
       "    <tr>\n",
       "      <td>tripeptide_c</td>\n",
       "      <td>DM_tripeptide_c</td>\n",
       "      <td>-0.0001302</td>\n",
       "      <td>0</td>\n",
       "      <td>0.00%</td>\n",
       "    </tr>\n",
       "    <tr>\n",
       "      <td>co2_e</td>\n",
       "      <td>EX_co2_e</td>\n",
       "      <td>-12.49</td>\n",
       "      <td>1</td>\n",
       "      <td>99.96%</td>\n",
       "    </tr>\n",
       "    <tr>\n",
       "      <td>h2o_e</td>\n",
       "      <td>EX_h2o_e</td>\n",
       "      <td>-27.79</td>\n",
       "      <td>0</td>\n",
       "      <td>0.00%</td>\n",
       "    </tr>\n",
       "    <tr>\n",
       "      <td>h_e</td>\n",
       "      <td>EX_h_e</td>\n",
       "      <td>-5.474</td>\n",
       "      <td>0</td>\n",
       "      <td>0.00%</td>\n",
       "    </tr>\n",
       "  </tbody>\n",
       "</table>"
      ],
      "text/plain": [
       "<cobra.summary.model_summary.ModelSummary at 0x1a5ebfcb520>"
      ]
     },
     "execution_count": 26,
     "metadata": {},
     "output_type": "execute_result"
    }
   ],
   "source": [
    "model.remove_reactions(['PPCK'], remove_orphans=True)\n",
    "model.reactions.OAADC.gene_reaction_rule = 'PP_1389'\n",
    "model.summary()"
   ]
  },
  {
   "cell_type": "markdown",
   "metadata": {},
   "source": [
    "# Savepoint\n"
   ]
  },
  {
   "cell_type": "raw",
   "metadata": {},
   "source": [
    "savepoint = model.copy()\n",
    "# Write model to files\n",
    "# cobra.io.save_json_model(savepoint, 'iJN1463_savepoint_JS.json')"
   ]
  },
  {
   "cell_type": "code",
   "execution_count": 27,
   "metadata": {},
   "outputs": [],
   "source": [
    "model = cobra.io.load_json_model('../models/iJN1463_savepoint_JS.json')\n",
    "model.tolerance = 1e-9"
   ]
  },
  {
   "cell_type": "markdown",
   "metadata": {},
   "source": [
    "## Add in 4ACA pathway reactions"
   ]
  },
  {
   "cell_type": "code",
   "execution_count": 28,
   "metadata": {},
   "outputs": [],
   "source": [
    "M_4a4dpr_c = Metabolite('4a4dpr_c',\n",
    "    formula='C10H10NO5',\n",
    "    name='4-amino-4-deoxyprephenate',\n",
    "    charge=-1,\n",
    "    compartment='c')\n",
    "\n",
    "M_4aPPA_c = Metabolite('4aPPA_c',\n",
    "    formula='C9H8NO3',\n",
    "    name='3-(4-aminophenyl)pyruvate',\n",
    "    charge=-1,\n",
    "    compartment='c')\n",
    "\n",
    "M_4aPhe_c = Metabolite('4aPhe_c',\n",
    "    formula='C9H12N2O2',\n",
    "    name='4-L-aminophenylalanine',\n",
    "    charge=0,                   \n",
    "    compartment='c')\n",
    "\n",
    "M_4aca_c = Metabolite('4aca_c',\n",
    "    formula='C9H9NO2',\n",
    "    name='4-aminocinnamic acid',\n",
    "    charge=0,  \n",
    "    compartment='c')\n",
    "\n",
    "M_4asty_c = Metabolite('4asty_c',\n",
    "    formula='C8H9N',\n",
    "    name='4-aminostyrene',\n",
    "    charge=0,  \n",
    "    compartment='c')\n",
    "\n",
    "model.add_metabolites([M_4a4dpr_c, M_4aPPA_c, M_4aPhe_c, M_4aca_c, M_4asty_c])"
   ]
  },
  {
   "cell_type": "code",
   "execution_count": 29,
   "metadata": {},
   "outputs": [],
   "source": [
    "reaction = Reaction('R_PABASYN_RXN')\n",
    "reaction.name = 'EC 2.6.1.85'\n",
    "reaction.lower_bound = 0.  # This is the default\n",
    "reaction.upper_bound = 1000.  # This is the default\n",
    "reaction.gene_reaction_rule = '( papA )'\n",
    "model.add_reactions([reaction])\n",
    "model.reactions.R_PABASYN_RXN.add_metabolites({'chor_c': -1.0, 'gln__L_c': -1.0, '4adcho_c':1.0, 'glu__L_c':1.0})\n",
    "\n",
    "reaction = Reaction('RXN_20192')\n",
    "reaction.name = 'EC 5.4.99.67'\n",
    "reaction.lower_bound = 0.  # This is the default\n",
    "reaction.upper_bound = 1000.  # This is the default\n",
    "reaction.gene_reaction_rule = '( papB )'\n",
    "model.add_reactions([reaction])\n",
    "model.reactions.RXN_20192.add_metabolites({'4adcho_c': -1.0, '4a4dpr_c':1.0})\n",
    "\n",
    "reaction = Reaction('RXN_20193')\n",
    "reaction.name = 'EC 1.3.1.121'\n",
    "reaction.lower_bound = 0.  # This is the default\n",
    "reaction.upper_bound = 1000.  # This is the default\n",
    "reaction.gene_reaction_rule = '( papC )'\n",
    "model.add_reactions([reaction])\n",
    "model.reactions.RXN_20193.add_metabolites({'4a4dpr_c': -1.0, 'nad_c':-1.0, '4aPPA_c':1.0, 'co2_c':1.0, 'nadh_c':1.0, 'h_c':1.0})\n",
    "\n",
    "reaction = Reaction('RXN_20194')\n",
    "reaction.name = 'EC 2.6.1.'\n",
    "reaction.lower_bound = -1000.  # This is the default\n",
    "reaction.upper_bound = 1000.  # This is the default\n",
    "model.add_reactions([reaction])\n",
    "model.reactions.RXN_20194.add_metabolites({'4aPhe_c': -1.0, 'akg_c':-1.0, '4aPPA_c':1.0, 'glu__L_c':1.0})\n",
    "\n",
    "reaction = Reaction('RgPAL')\n",
    "reaction.name = 'EC 4.3.1.24/4.3.1.25'\n",
    "reaction.lower_bound = 0.  # This is the default\n",
    "reaction.upper_bound = 1000.  # This is the default\n",
    "reaction.gene_reaction_rule = '( Rg-PAL )'\n",
    "model.add_reactions([reaction])\n",
    "model.reactions.RgPAL.add_metabolites({'4aPhe_c': -1.0, 'h_c':-1.0, '4aca_c':1.0, 'nh4_c':1.0})"
   ]
  },
  {
   "cell_type": "code",
   "execution_count": 30,
   "metadata": {},
   "outputs": [
    {
     "data": {
      "text/html": [
       "\n",
       "        <table>\n",
       "            <tr>\n",
       "                <td><strong>Reaction identifier</strong></td><td>EX_4aca_e</td>\n",
       "            </tr><tr>\n",
       "                <td><strong>Name</strong></td><td>4-aminocinnamic acid exchange</td>\n",
       "            </tr><tr>\n",
       "                <td><strong>Memory address</strong></td>\n",
       "                <td>0x1a5ecef8eb0</td>\n",
       "            </tr><tr>\n",
       "                <td><strong>Stoichiometry</strong></td>\n",
       "                <td>\n",
       "                    <p style='text-align:right'>4aca_e <=></p>\n",
       "                    <p style='text-align:right'>4-aminocinnamic acid <=></p>\n",
       "                </td>\n",
       "            </tr><tr>\n",
       "                <td><strong>GPR</strong></td><td></td>\n",
       "            </tr><tr>\n",
       "                <td><strong>Lower bound</strong></td><td>-1000.0</td>\n",
       "            </tr><tr>\n",
       "                <td><strong>Upper bound</strong></td><td>1000.0</td>\n",
       "            </tr>\n",
       "        </table>\n",
       "        "
      ],
      "text/plain": [
       "<Reaction EX_4aca_e at 0x1a5ecef8eb0>"
      ]
     },
     "execution_count": 30,
     "metadata": {},
     "output_type": "execute_result"
    }
   ],
   "source": [
    "M_4aca_e = Metabolite('4aca_e',\n",
    "    formula='C9H9NO2',\n",
    "    name='4-aminocinnamic acid',\n",
    "    charge=0,  \n",
    "    compartment='e')\n",
    "\n",
    "model.add_metabolites([M_4aca_e])\n",
    "\n",
    "# add in internal 4-amminocinnamate --> external 4-amminocinnamate ) \n",
    "reaction = Reaction('R_4aca_Tr')\n",
    "reaction.name = '4aca_c_TRANSPORT'\n",
    "reaction.lower_bound = 0.  # This is the default\n",
    "reaction.upper_bound = 1000.  # This is the default\n",
    "model.add_reactions([reaction])\n",
    "model.reactions.R_4aca_Tr.add_metabolites({'4aca_c': -1.0, '4aca_e': 1.0})\n",
    "\n",
    "model.add_boundary(model.metabolites.get_by_id(\"4aca_e\"), type=\"exchange\")"
   ]
  },
  {
   "cell_type": "code",
   "execution_count": 31,
   "metadata": {},
   "outputs": [
    {
     "data": {
      "text/html": [
       "\n",
       "        <table>\n",
       "            <tr>\n",
       "                <td><strong>Reaction identifier</strong></td><td>EX_4aPhe_e</td>\n",
       "            </tr><tr>\n",
       "                <td><strong>Name</strong></td><td>4-L-aminophenylalanine exchange</td>\n",
       "            </tr><tr>\n",
       "                <td><strong>Memory address</strong></td>\n",
       "                <td>0x1a5873479d0</td>\n",
       "            </tr><tr>\n",
       "                <td><strong>Stoichiometry</strong></td>\n",
       "                <td>\n",
       "                    <p style='text-align:right'>4aPhe_e <=></p>\n",
       "                    <p style='text-align:right'>4-L-aminophenylalanine <=></p>\n",
       "                </td>\n",
       "            </tr><tr>\n",
       "                <td><strong>GPR</strong></td><td></td>\n",
       "            </tr><tr>\n",
       "                <td><strong>Lower bound</strong></td><td>-1000.0</td>\n",
       "            </tr><tr>\n",
       "                <td><strong>Upper bound</strong></td><td>1000.0</td>\n",
       "            </tr>\n",
       "        </table>\n",
       "        "
      ],
      "text/plain": [
       "<Reaction EX_4aPhe_e at 0x1a5873479d0>"
      ]
     },
     "execution_count": 31,
     "metadata": {},
     "output_type": "execute_result"
    }
   ],
   "source": [
    "a = Metabolite('4abz_e',\n",
    "    formula='C7H6NO2',\n",
    "    name='4-aminobenzoate',\n",
    "    charge=-1,\n",
    "    compartment='e')\n",
    "\n",
    "b = Metabolite('4aPhe_e',\n",
    "    formula='C9H12N2O2',\n",
    "    name='4-L-aminophenylalanine',\n",
    "    charge=0,\n",
    "    compartment='e')\n",
    "\n",
    "model.add_metabolites([a, b])\n",
    "\n",
    "reaction = Reaction('TRANS-RXN18UU-18')\n",
    "reaction.name = 'TRANS-RXN18UU-18'\n",
    "reaction.lower_bound = 0.  # This is the default\n",
    "reaction.upper_bound = 1000.  # This is the default\n",
    "model.add_reactions([reaction])\n",
    "reaction.gene_reaction_rule = '( PP_5297 )'\n",
    "reaction.add_metabolites({'4abz_c': -1.0, '4abz_e': 1.0})\n",
    "\n",
    "reaction = Reaction('TRANS-RXN18UU-62')\n",
    "reaction.name = 'TRANS-RXN18UU-62'\n",
    "reaction.lower_bound = 0.  # This is the default\n",
    "reaction.upper_bound = 1000.  # This is the default\n",
    "model.add_reactions([reaction])\n",
    "reaction.gene_reaction_rule = '( PP_3658 )'\n",
    "reaction.add_metabolites({'4aPhe_c': -1.0, '4aPhe_e': 1.0})\n",
    "\n",
    "model.add_boundary(model.metabolites.get_by_id(\"4abz_e\"), type=\"exchange\")\n",
    "model.add_boundary(model.metabolites.get_by_id(\"4aPhe_e\"), type=\"exchange\")"
   ]
  },
  {
   "cell_type": "code",
   "execution_count": 32,
   "metadata": {},
   "outputs": [],
   "source": [
    "M_phpyr = Metabolite('phpyr_c',\n",
    "    formula='C9H7O3',\n",
    "    name='2-oxo-3-phenylpropanoate',\n",
    "    charge=-1,\n",
    "    compartment='c')\n",
    "\n",
    "M_cinm_c = Metabolite('cinm_c',\n",
    "    formula='C9H7O2',\n",
    "    name='cinnamic acid',\n",
    "    charge=-1,\n",
    "    compartment='c')\n",
    "\n",
    "M_cinm_e = Metabolite('cinm_e',\n",
    "    formula='C9H7O2',\n",
    "    name='cinnamic acid',\n",
    "    charge=-1,\n",
    "    compartment='e')\n",
    "\n",
    "M_nh4 = Metabolite('nh4_c',\n",
    "    formula='H4N',\n",
    "    name='ammonia',\n",
    "    charge=1,\n",
    "    compartment='c')\n",
    "    \n",
    "model.add_metabolites([M_phpyr, M_cinm_c, M_cinm_e, M_nh4])\n"
   ]
  },
  {
   "cell_type": "code",
   "execution_count": 33,
   "metadata": {},
   "outputs": [
    {
     "data": {
      "text/html": [
       "\n",
       "        <table>\n",
       "            <tr>\n",
       "                <td><strong>Reaction identifier</strong></td><td>EX_cinm_e</td>\n",
       "            </tr><tr>\n",
       "                <td><strong>Name</strong></td><td>cinnamic acid exchange</td>\n",
       "            </tr><tr>\n",
       "                <td><strong>Memory address</strong></td>\n",
       "                <td>0x1a5ec0c99a0</td>\n",
       "            </tr><tr>\n",
       "                <td><strong>Stoichiometry</strong></td>\n",
       "                <td>\n",
       "                    <p style='text-align:right'>cinm_e <=></p>\n",
       "                    <p style='text-align:right'>cinnamic acid <=></p>\n",
       "                </td>\n",
       "            </tr><tr>\n",
       "                <td><strong>GPR</strong></td><td></td>\n",
       "            </tr><tr>\n",
       "                <td><strong>Lower bound</strong></td><td>-1000.0</td>\n",
       "            </tr><tr>\n",
       "                <td><strong>Upper bound</strong></td><td>1000.0</td>\n",
       "            </tr>\n",
       "        </table>\n",
       "        "
      ],
      "text/plain": [
       "<Reaction EX_cinm_e at 0x1a5ec0c99a0>"
      ]
     },
     "execution_count": 33,
     "metadata": {},
     "output_type": "execute_result"
    }
   ],
   "source": [
    "reaction = Reaction('R_pheA')\n",
    "reaction.name = '4.2.1.51'\n",
    "reaction.lower_bound = 0.  # This is the default\n",
    "reaction.upper_bound = 1000.  # This is the default\n",
    "model.add_reactions([reaction])\n",
    "reaction.gene_reaction_rule = '( PP_1769 )'\n",
    "reaction.add_metabolites({'pphn_c':-1.0, 'h_c':-1.0,  'phpyr_c':1.0, 'co2_c':1.0, 'h2o_c':1.0})\n",
    "\n",
    "reaction = Reaction('PAL_F')\n",
    "reaction.name = 'EC 4.3.1.24/4.3.1.25'\n",
    "reaction.lower_bound = 0.  # This is the default\n",
    "reaction.upper_bound = 1000.  # This is the default\n",
    "model.add_reactions([reaction])\n",
    "reaction.add_metabolites({'phe__L_c':-1.0,  'cinm_c':1.0, 'nh4_c':1.0})\n",
    "\n",
    "reaction = Reaction('R_cinm_Tr')\n",
    "reaction.name = 'cinm_TRANSPORT'\n",
    "reaction.lower_bound = 0.  # This is the default\n",
    "reaction.upper_bound = 1000.  # This is the default\n",
    "model.add_reactions([reaction])\n",
    "reaction.add_metabolites({'cinm_c':-1.0, 'cinm_e':1.0})\n",
    "\n",
    "model.add_boundary(model.metabolites.get_by_id(\"cinm_e\"), type=\"exchange\")"
   ]
  },
  {
   "cell_type": "code",
   "execution_count": 34,
   "metadata": {},
   "outputs": [],
   "source": [
    "# another name for p-coumaric acid\n",
    "M_pHCA_c = Metabolite('pHCA_c',\n",
    "    formula='C9H7O3',\n",
    "    name='4-hydroxycinnamate',\n",
    "    charge=-1,\n",
    "    compartment='c')\n",
    "\n",
    "M_pHCA_e = Metabolite('pHCA_e',\n",
    "    formula='C9H7O3',\n",
    "    name='4-hydroxycinnamate',\n",
    "    charge=-1,\n",
    "    compartment='e')\n",
    "\n",
    "model.add_metabolites([M_pHCA_c, M_pHCA_e])"
   ]
  },
  {
   "cell_type": "code",
   "execution_count": 35,
   "metadata": {},
   "outputs": [
    {
     "data": {
      "text/html": [
       "\n",
       "        <table>\n",
       "            <tr>\n",
       "                <td><strong>Reaction identifier</strong></td><td>EX_pHCA_e</td>\n",
       "            </tr><tr>\n",
       "                <td><strong>Name</strong></td><td>4-hydroxycinnamate exchange</td>\n",
       "            </tr><tr>\n",
       "                <td><strong>Memory address</strong></td>\n",
       "                <td>0x1a5ed56b9d0</td>\n",
       "            </tr><tr>\n",
       "                <td><strong>Stoichiometry</strong></td>\n",
       "                <td>\n",
       "                    <p style='text-align:right'>pHCA_e <=></p>\n",
       "                    <p style='text-align:right'>4-hydroxycinnamate <=></p>\n",
       "                </td>\n",
       "            </tr><tr>\n",
       "                <td><strong>GPR</strong></td><td></td>\n",
       "            </tr><tr>\n",
       "                <td><strong>Lower bound</strong></td><td>-1000.0</td>\n",
       "            </tr><tr>\n",
       "                <td><strong>Upper bound</strong></td><td>1000.0</td>\n",
       "            </tr>\n",
       "        </table>\n",
       "        "
      ],
      "text/plain": [
       "<Reaction EX_pHCA_e at 0x1a5ed56b9d0>"
      ]
     },
     "execution_count": 35,
     "metadata": {},
     "output_type": "execute_result"
    }
   ],
   "source": [
    "reaction = Reaction('R_tyrA')\n",
    "reaction.name = 'E. coli tyrA'\n",
    "reaction.lower_bound = 0.  # This is the default\n",
    "reaction.upper_bound = 1000.  # This is the default\n",
    "model.add_reactions([reaction])\n",
    "reaction.gene_reaction_rule = '( PP_1770 )'\n",
    "reaction.add_metabolites({'pphn_c':-1.0, 'nad_c':-1.0,  '34hpp_c':1.0, 'co2_c':1.0, 'nadh_c':1.0})\n",
    "\n",
    "reaction = Reaction('PAL_Y')\n",
    "reaction.name = '2.6.1.57 Y'\n",
    "reaction.lower_bound = 0.  # This is the default\n",
    "reaction.upper_bound = 1000.  # This is the default\n",
    "model.add_reactions([reaction])\n",
    "reaction.gene_reaction_rule = '( PP_4692 )'\n",
    "reaction.add_metabolites({'tyr__L_c':-1.0, 'pHCA_c':1.0, 'nh4_c':1.0})\n",
    "\n",
    "reaction = Reaction('R_pHCA_Tr')\n",
    "reaction.name = 'pHCA_TRANSPORT'\n",
    "reaction.lower_bound = 0.  # This is the default\n",
    "reaction.upper_bound = 1000.  # This is the default\n",
    "model.add_reactions([reaction])\n",
    "reaction.add_metabolites({'pHCA_c':-1.0, 'pHCA_e':1.0})\n",
    "\n",
    "model.add_boundary(model.metabolites.get_by_id(\"pHCA_e\"), type=\"exchange\")"
   ]
  },
  {
   "cell_type": "code",
   "execution_count": 36,
   "metadata": {},
   "outputs": [],
   "source": [
    "model.reactions.EX_4aca_e.lower_bound = 0\n",
    "model.reactions.EX_cinm_e.lower_bound = 0\n",
    "model.reactions.EX_pHCA_e.lower_bound = 0"
   ]
  },
  {
   "cell_type": "code",
   "execution_count": 37,
   "metadata": {},
   "outputs": [
    {
     "name": "stdout",
     "output_type": "stream",
     "text": [
      "BVMO5: h_c + nadph_c + o2_c + und2one_c --> h2o_c + 0.22 methdca_c + nadp_c + 0.78 nnac_c PP_2805\n",
      "{'O': 1.3322676295501878e-15, 'C': 1.7763568394002505e-15}\n",
      "h2o_c H2O 0\n",
      "h_c H 1\n",
      "methdca_c C11H22O2 0\n",
      "nadp_c C21H25N7O17P3 -3\n",
      "nadph_c C21H26N7O17P3 -4\n",
      "nnac_c C11H22O2 0\n",
      "o2_c O2 0\n",
      "und2one_c C11H22O 0\n",
      "\n"
     ]
    }
   ],
   "source": [
    "for r in model.reactions:\n",
    "    if not r.boundary and not 'BIOMASS' in r.id and r.check_mass_balance():\n",
    "        print(r, r.gene_reaction_rule)\n",
    "        print(r.check_mass_balance())\n",
    "        for m in r.metabolites:\n",
    "            print(m.id, m.formula, m.charge)\n",
    "        print()"
   ]
  },
  {
   "cell_type": "code",
   "execution_count": 38,
   "metadata": {},
   "outputs": [],
   "source": [
    "blocked_rxns = cobra.flux_analysis.find_blocked_reactions(model)"
   ]
  },
  {
   "cell_type": "code",
   "execution_count": 39,
   "metadata": {},
   "outputs": [],
   "source": [
    "assert len([i for i in blocked_rxns if 'pHCA' in i])==0, 'pHCA branch is blocked'\n",
    "assert len([i for i in blocked_rxns if 'cinm_Tr' in i])==0, 'cinm branch is blocked'"
   ]
  },
  {
   "cell_type": "code",
   "execution_count": 40,
   "metadata": {},
   "outputs": [],
   "source": [
    "assert len([i for i in blocked_rxns if '4abz' in i])==0, '4abz branch is blocked'\n",
    "assert len([i for i in blocked_rxns if '4aPhe' in i])==0, '4aPhe branch is blocked'"
   ]
  },
  {
   "cell_type": "code",
   "execution_count": 41,
   "metadata": {},
   "outputs": [],
   "source": [
    "for m in model.metabolites:\n",
    "    if m.compartment != 'c' and m.compartment != 'e' and m.compartment != 'p':\n",
    "        print(m.id)"
   ]
  },
  {
   "cell_type": "markdown",
   "metadata": {},
   "source": [
    "## Run FBA\n",
    "### Establish objective function\n",
    "Objective function is sum of both biomass and external transamminocinnamate"
   ]
  },
  {
   "cell_type": "code",
   "execution_count": 42,
   "metadata": {},
   "outputs": [
    {
     "data": {
      "text/html": [
       "<h3>Objective</h3><p>1.0 BIOMASS_KT2440_WT3 = 0.583811326087616</p><h4>Uptake</h4><table border=\"1\" class=\"dataframe\">\n",
       "  <thead>\n",
       "    <tr style=\"text-align: right;\">\n",
       "      <th>Metabolite</th>\n",
       "      <th>Reaction</th>\n",
       "      <th>Flux</th>\n",
       "      <th>C-Number</th>\n",
       "      <th>C-Flux</th>\n",
       "    </tr>\n",
       "  </thead>\n",
       "  <tbody>\n",
       "    <tr>\n",
       "      <td>ca2_e</td>\n",
       "      <td>EX_ca2_e</td>\n",
       "      <td>0.002467</td>\n",
       "      <td>0</td>\n",
       "      <td>0.00%</td>\n",
       "    </tr>\n",
       "    <tr>\n",
       "      <td>cl_e</td>\n",
       "      <td>EX_cl_e</td>\n",
       "      <td>0.002467</td>\n",
       "      <td>0</td>\n",
       "      <td>0.00%</td>\n",
       "    </tr>\n",
       "    <tr>\n",
       "      <td>cobalt2_e</td>\n",
       "      <td>EX_cobalt2_e</td>\n",
       "      <td>0.001775</td>\n",
       "      <td>0</td>\n",
       "      <td>0.00%</td>\n",
       "    </tr>\n",
       "    <tr>\n",
       "      <td>cu2_e</td>\n",
       "      <td>EX_cu2_e</td>\n",
       "      <td>0.001645</td>\n",
       "      <td>0</td>\n",
       "      <td>0.00%</td>\n",
       "    </tr>\n",
       "    <tr>\n",
       "      <td>fe2_e</td>\n",
       "      <td>EX_fe2_e</td>\n",
       "      <td>0.008574</td>\n",
       "      <td>0</td>\n",
       "      <td>0.00%</td>\n",
       "    </tr>\n",
       "    <tr>\n",
       "      <td>glc__D_e</td>\n",
       "      <td>EX_glc__D_e</td>\n",
       "      <td>6</td>\n",
       "      <td>6</td>\n",
       "      <td>99.99%</td>\n",
       "    </tr>\n",
       "    <tr>\n",
       "      <td>k_e</td>\n",
       "      <td>EX_k_e</td>\n",
       "      <td>0.09254</td>\n",
       "      <td>0</td>\n",
       "      <td>0.00%</td>\n",
       "    </tr>\n",
       "    <tr>\n",
       "      <td>mg2_e</td>\n",
       "      <td>EX_mg2_e</td>\n",
       "      <td>0.004112</td>\n",
       "      <td>0</td>\n",
       "      <td>0.00%</td>\n",
       "    </tr>\n",
       "    <tr>\n",
       "      <td>mn2_e</td>\n",
       "      <td>EX_mn2_e</td>\n",
       "      <td>0.001645</td>\n",
       "      <td>0</td>\n",
       "      <td>0.00%</td>\n",
       "    </tr>\n",
       "    <tr>\n",
       "      <td>mobd_e</td>\n",
       "      <td>EX_mobd_e</td>\n",
       "      <td>0.001905</td>\n",
       "      <td>0</td>\n",
       "      <td>0.00%</td>\n",
       "    </tr>\n",
       "    <tr>\n",
       "      <td>na1_e</td>\n",
       "      <td>EX_na1_e</td>\n",
       "      <td>0.002056</td>\n",
       "      <td>0</td>\n",
       "      <td>0.00%</td>\n",
       "    </tr>\n",
       "    <tr>\n",
       "      <td>nh4_e</td>\n",
       "      <td>EX_nh4_e</td>\n",
       "      <td>6.214</td>\n",
       "      <td>0</td>\n",
       "      <td>0.00%</td>\n",
       "    </tr>\n",
       "    <tr>\n",
       "      <td>ni2_e</td>\n",
       "      <td>EX_ni2_e</td>\n",
       "      <td>0.001645</td>\n",
       "      <td>0</td>\n",
       "      <td>0.00%</td>\n",
       "    </tr>\n",
       "    <tr>\n",
       "      <td>o2_e</td>\n",
       "      <td>EX_o2_e</td>\n",
       "      <td>11.52</td>\n",
       "      <td>0</td>\n",
       "      <td>0.00%</td>\n",
       "    </tr>\n",
       "    <tr>\n",
       "      <td>pi_e</td>\n",
       "      <td>EX_pi_e</td>\n",
       "      <td>0.537</td>\n",
       "      <td>0</td>\n",
       "      <td>0.00%</td>\n",
       "    </tr>\n",
       "    <tr>\n",
       "      <td>so4_e</td>\n",
       "      <td>EX_so4_e</td>\n",
       "      <td>0.1086</td>\n",
       "      <td>0</td>\n",
       "      <td>0.00%</td>\n",
       "    </tr>\n",
       "    <tr>\n",
       "      <td>zn2_e</td>\n",
       "      <td>EX_zn2_e</td>\n",
       "      <td>0.001645</td>\n",
       "      <td>0</td>\n",
       "      <td>0.00%</td>\n",
       "    </tr>\n",
       "    <tr>\n",
       "      <td>pqqA_kt_c</td>\n",
       "      <td>SK_pqqA_kt_c</td>\n",
       "      <td>0.0001302</td>\n",
       "      <td>14</td>\n",
       "      <td>0.01%</td>\n",
       "    </tr>\n",
       "  </tbody>\n",
       "</table><h4>Secretion</h4><table border=\"1\" class=\"dataframe\">\n",
       "  <thead>\n",
       "    <tr style=\"text-align: right;\">\n",
       "      <th>Metabolite</th>\n",
       "      <th>Reaction</th>\n",
       "      <th>Flux</th>\n",
       "      <th>C-Number</th>\n",
       "      <th>C-Flux</th>\n",
       "    </tr>\n",
       "  </thead>\n",
       "  <tbody>\n",
       "    <tr>\n",
       "      <td>5drib_c</td>\n",
       "      <td>DM_5drib_c</td>\n",
       "      <td>-0.0005208</td>\n",
       "      <td>5</td>\n",
       "      <td>0.02%</td>\n",
       "    </tr>\n",
       "    <tr>\n",
       "      <td>amob_c</td>\n",
       "      <td>DM_amob_c</td>\n",
       "      <td>-0.0001302</td>\n",
       "      <td>15</td>\n",
       "      <td>0.02%</td>\n",
       "    </tr>\n",
       "    <tr>\n",
       "      <td>doxopa_c</td>\n",
       "      <td>DM_doxopa_c</td>\n",
       "      <td>-0.0001302</td>\n",
       "      <td>3</td>\n",
       "      <td>0.00%</td>\n",
       "    </tr>\n",
       "    <tr>\n",
       "      <td>tripeptide_c</td>\n",
       "      <td>DM_tripeptide_c</td>\n",
       "      <td>-0.0001302</td>\n",
       "      <td>0</td>\n",
       "      <td>0.00%</td>\n",
       "    </tr>\n",
       "    <tr>\n",
       "      <td>co2_e</td>\n",
       "      <td>EX_co2_e</td>\n",
       "      <td>-12.49</td>\n",
       "      <td>1</td>\n",
       "      <td>99.96%</td>\n",
       "    </tr>\n",
       "    <tr>\n",
       "      <td>h2o_e</td>\n",
       "      <td>EX_h2o_e</td>\n",
       "      <td>-27.79</td>\n",
       "      <td>0</td>\n",
       "      <td>0.00%</td>\n",
       "    </tr>\n",
       "    <tr>\n",
       "      <td>h_e</td>\n",
       "      <td>EX_h_e</td>\n",
       "      <td>-5.474</td>\n",
       "      <td>0</td>\n",
       "      <td>0.00%</td>\n",
       "    </tr>\n",
       "  </tbody>\n",
       "</table>"
      ],
      "text/plain": [
       "<cobra.summary.model_summary.ModelSummary at 0x1a5ee7ec0d0>"
      ]
     },
     "execution_count": 42,
     "metadata": {},
     "output_type": "execute_result"
    }
   ],
   "source": [
    "model.optimize()\n",
    "model.summary()"
   ]
  },
  {
   "cell_type": "markdown",
   "metadata": {},
   "source": [
    "Jeremy Zucker says \"Better to set a feasible minimal lower bound on biomass (such as 50% max growth) and maximize 4ACA or vice versa. This way biomass flux AND 4ACA fluxes are guaranteed to be nonzero\""
   ]
  },
  {
   "cell_type": "code",
   "execution_count": 43,
   "metadata": {},
   "outputs": [],
   "source": [
    "model.reactions.BIOMASS_KT2440_WT3.lower_bound = 0.5838113260876195/2"
   ]
  },
  {
   "cell_type": "code",
   "execution_count": 44,
   "metadata": {},
   "outputs": [
    {
     "name": "stdout",
     "output_type": "stream",
     "text": [
      "1.6047058823529297\n"
     ]
    }
   ],
   "source": [
    "## we expect this output to be non-zero\n",
    "model.objective = {model.reactions.RgPAL: 1}\n",
    "\n",
    "sol = model.optimize()\n",
    "print(sol.objective_value)"
   ]
  },
  {
   "cell_type": "markdown",
   "metadata": {},
   "source": [
    "$C^{13}$ metabolic flux analysis has found that there is significant flux (~10% of input glucose) through the EDEMP cycle (EDD+EMP) in P. putida ([Nikel et al J Biol Chem 290.43 (2015): 25920-25932](https://www.sciencedirect.com/science/article/pii/S0021925820495730))"
   ]
  },
  {
   "cell_type": "code",
   "execution_count": 45,
   "metadata": {},
   "outputs": [],
   "source": [
    "def tableFluxes(solution,rxnList):\n",
    "    \"Function to display relevant fluxes\"\n",
    "    values = [solution.fluxes[rxn] for rxn in rxnList]                              # get flux values\n",
    "    genes = [model.reactions.get_by_id(rxn).gene_reaction_rule for rxn in rxnList]  # get gene names\n",
    "    df = pd.DataFrame(data= {'Reactions': rxnList, 'Value': values,'Genes': genes}) # Put all of them into a dataframe\n",
    "\n",
    "    return df"
   ]
  },
  {
   "cell_type": "code",
   "execution_count": 46,
   "metadata": {},
   "outputs": [],
   "source": [
    "model.objective = model.reactions.RgPAL\n",
    "solution = model.optimize()"
   ]
  },
  {
   "cell_type": "code",
   "execution_count": 47,
   "metadata": {},
   "outputs": [],
   "source": [
    "rxnList = ['TKT1','TKT2','EDD','EDA','FBA','FBP','PGI','G6PDH2r','EX_glc__D_e']"
   ]
  },
  {
   "cell_type": "code",
   "execution_count": 48,
   "metadata": {},
   "outputs": [
    {
     "data": {
      "text/html": [
       "<div>\n",
       "<style scoped>\n",
       "    .dataframe tbody tr th:only-of-type {\n",
       "        vertical-align: middle;\n",
       "    }\n",
       "\n",
       "    .dataframe tbody tr th {\n",
       "        vertical-align: top;\n",
       "    }\n",
       "\n",
       "    .dataframe thead th {\n",
       "        text-align: right;\n",
       "    }\n",
       "</style>\n",
       "<table border=\"1\" class=\"dataframe\">\n",
       "  <thead>\n",
       "    <tr style=\"text-align: right;\">\n",
       "      <th></th>\n",
       "      <th>Reactions</th>\n",
       "      <th>Value</th>\n",
       "      <th>Genes</th>\n",
       "    </tr>\n",
       "  </thead>\n",
       "  <tbody>\n",
       "    <tr>\n",
       "      <th>0</th>\n",
       "      <td>TKT1</td>\n",
       "      <td>0.883297</td>\n",
       "      <td>PP_4965</td>\n",
       "    </tr>\n",
       "    <tr>\n",
       "      <th>1</th>\n",
       "      <td>TKT2</td>\n",
       "      <td>-0.844967</td>\n",
       "      <td>PP_4965</td>\n",
       "    </tr>\n",
       "    <tr>\n",
       "      <th>2</th>\n",
       "      <td>EDD</td>\n",
       "      <td>4.794643</td>\n",
       "      <td>PP_1010</td>\n",
       "    </tr>\n",
       "    <tr>\n",
       "      <th>3</th>\n",
       "      <td>EDA</td>\n",
       "      <td>4.794643</td>\n",
       "      <td>PP_1024</td>\n",
       "    </tr>\n",
       "    <tr>\n",
       "      <th>4</th>\n",
       "      <td>FBA</td>\n",
       "      <td>0.000000</td>\n",
       "      <td>PP_4960</td>\n",
       "    </tr>\n",
       "    <tr>\n",
       "      <th>5</th>\n",
       "      <td>FBP</td>\n",
       "      <td>0.000000</td>\n",
       "      <td>PP_5040</td>\n",
       "    </tr>\n",
       "    <tr>\n",
       "      <th>6</th>\n",
       "      <td>PGI</td>\n",
       "      <td>-0.010154</td>\n",
       "      <td>PP_1808 or PP_4701</td>\n",
       "    </tr>\n",
       "    <tr>\n",
       "      <th>7</th>\n",
       "      <td>G6PDH2r</td>\n",
       "      <td>0.000000</td>\n",
       "      <td>PP_1022 or PP_5351 or PP_4042</td>\n",
       "    </tr>\n",
       "    <tr>\n",
       "      <th>8</th>\n",
       "      <td>EX_glc__D_e</td>\n",
       "      <td>-6.000000</td>\n",
       "      <td></td>\n",
       "    </tr>\n",
       "  </tbody>\n",
       "</table>\n",
       "</div>"
      ],
      "text/plain": [
       "     Reactions     Value                          Genes\n",
       "0         TKT1  0.883297                        PP_4965\n",
       "1         TKT2 -0.844967                        PP_4965\n",
       "2          EDD  4.794643                        PP_1010\n",
       "3          EDA  4.794643                        PP_1024\n",
       "4          FBA  0.000000                        PP_4960\n",
       "5          FBP  0.000000                        PP_5040\n",
       "6          PGI -0.010154             PP_1808 or PP_4701\n",
       "7      G6PDH2r  0.000000  PP_1022 or PP_5351 or PP_4042\n",
       "8  EX_glc__D_e -6.000000                               "
      ]
     },
     "execution_count": 48,
     "metadata": {},
     "output_type": "execute_result"
    }
   ],
   "source": [
    "tableFluxes(solution,rxnList)"
   ]
  },
  {
   "cell_type": "markdown",
   "metadata": {},
   "source": [
    "We can force flux through the EDEMP cycle to imitate the flux profile found through $^{13}C$ MFA by setting the following bounds:"
   ]
  },
  {
   "cell_type": "code",
   "execution_count": 49,
   "metadata": {},
   "outputs": [],
   "source": [
    "model.reactions.FBA.upper_bound = -0.5\n",
    "model.reactions.FBA.lower_bound = -1.2\n",
    "\n",
    "model.reactions.PGI.upper_bound = -0.5\n",
    "model.reactions.PGI.lower_bound = -1.2\n",
    "\n",
    "model.reactions.G6PDH2r.upper_bound = 1.2\n",
    "model.reactions.G6PDH2r.lower_bound = 0.5"
   ]
  },
  {
   "cell_type": "code",
   "execution_count": 50,
   "metadata": {},
   "outputs": [
    {
     "data": {
      "text/html": [
       "<div>\n",
       "<style scoped>\n",
       "    .dataframe tbody tr th:only-of-type {\n",
       "        vertical-align: middle;\n",
       "    }\n",
       "\n",
       "    .dataframe tbody tr th {\n",
       "        vertical-align: top;\n",
       "    }\n",
       "\n",
       "    .dataframe thead th {\n",
       "        text-align: right;\n",
       "    }\n",
       "</style>\n",
       "<table border=\"1\" class=\"dataframe\">\n",
       "  <thead>\n",
       "    <tr style=\"text-align: right;\">\n",
       "      <th></th>\n",
       "      <th>Reactions</th>\n",
       "      <th>Value</th>\n",
       "      <th>Genes</th>\n",
       "    </tr>\n",
       "  </thead>\n",
       "  <tbody>\n",
       "    <tr>\n",
       "      <th>0</th>\n",
       "      <td>TKT1</td>\n",
       "      <td>0.867488</td>\n",
       "      <td>PP_4965</td>\n",
       "    </tr>\n",
       "    <tr>\n",
       "      <th>1</th>\n",
       "      <td>TKT2</td>\n",
       "      <td>-0.829157</td>\n",
       "      <td>PP_4965</td>\n",
       "    </tr>\n",
       "    <tr>\n",
       "      <th>2</th>\n",
       "      <td>EDD</td>\n",
       "      <td>5.310453</td>\n",
       "      <td>PP_1010</td>\n",
       "    </tr>\n",
       "    <tr>\n",
       "      <th>3</th>\n",
       "      <td>EDA</td>\n",
       "      <td>5.310453</td>\n",
       "      <td>PP_1024</td>\n",
       "    </tr>\n",
       "    <tr>\n",
       "      <th>4</th>\n",
       "      <td>FBA</td>\n",
       "      <td>-0.500000</td>\n",
       "      <td>PP_4960</td>\n",
       "    </tr>\n",
       "    <tr>\n",
       "      <th>5</th>\n",
       "      <td>FBP</td>\n",
       "      <td>0.500000</td>\n",
       "      <td>PP_5040</td>\n",
       "    </tr>\n",
       "    <tr>\n",
       "      <th>6</th>\n",
       "      <td>PGI</td>\n",
       "      <td>-0.510154</td>\n",
       "      <td>PP_1808 or PP_4701</td>\n",
       "    </tr>\n",
       "    <tr>\n",
       "      <th>7</th>\n",
       "      <td>G6PDH2r</td>\n",
       "      <td>0.500000</td>\n",
       "      <td>PP_1022 or PP_5351 or PP_4042</td>\n",
       "    </tr>\n",
       "    <tr>\n",
       "      <th>8</th>\n",
       "      <td>EX_glc__D_e</td>\n",
       "      <td>-6.000000</td>\n",
       "      <td></td>\n",
       "    </tr>\n",
       "  </tbody>\n",
       "</table>\n",
       "</div>"
      ],
      "text/plain": [
       "     Reactions     Value                          Genes\n",
       "0         TKT1  0.867488                        PP_4965\n",
       "1         TKT2 -0.829157                        PP_4965\n",
       "2          EDD  5.310453                        PP_1010\n",
       "3          EDA  5.310453                        PP_1024\n",
       "4          FBA -0.500000                        PP_4960\n",
       "5          FBP  0.500000                        PP_5040\n",
       "6          PGI -0.510154             PP_1808 or PP_4701\n",
       "7      G6PDH2r  0.500000  PP_1022 or PP_5351 or PP_4042\n",
       "8  EX_glc__D_e -6.000000                               "
      ]
     },
     "execution_count": 50,
     "metadata": {},
     "output_type": "execute_result"
    }
   ],
   "source": [
    "model.objective = model.reactions.RgPAL\n",
    "solution = model.optimize()\n",
    "tableFluxes(solution,rxnList)"
   ]
  },
  {
   "cell_type": "code",
   "execution_count": 51,
   "metadata": {},
   "outputs": [
    {
     "data": {
      "text/html": [
       "<div>\n",
       "<style scoped>\n",
       "    .dataframe tbody tr th:only-of-type {\n",
       "        vertical-align: middle;\n",
       "    }\n",
       "\n",
       "    .dataframe tbody tr th {\n",
       "        vertical-align: top;\n",
       "    }\n",
       "\n",
       "    .dataframe thead th {\n",
       "        text-align: right;\n",
       "    }\n",
       "</style>\n",
       "<table border=\"1\" class=\"dataframe\">\n",
       "  <thead>\n",
       "    <tr style=\"text-align: right;\">\n",
       "      <th></th>\n",
       "      <th>Reactions</th>\n",
       "      <th>Value</th>\n",
       "      <th>Genes</th>\n",
       "    </tr>\n",
       "  </thead>\n",
       "  <tbody>\n",
       "    <tr>\n",
       "      <th>0</th>\n",
       "      <td>CHORM</td>\n",
       "      <td>0.095506</td>\n",
       "      <td>PP_1769</td>\n",
       "    </tr>\n",
       "    <tr>\n",
       "      <th>1</th>\n",
       "      <td>R_pheA</td>\n",
       "      <td>0.000000</td>\n",
       "      <td>PP_1769</td>\n",
       "    </tr>\n",
       "    <tr>\n",
       "      <th>2</th>\n",
       "      <td>PHETA1</td>\n",
       "      <td>-0.055765</td>\n",
       "      <td>PP_1972 or PP_3590</td>\n",
       "    </tr>\n",
       "    <tr>\n",
       "      <th>3</th>\n",
       "      <td>PAL_F</td>\n",
       "      <td>0.000000</td>\n",
       "      <td></td>\n",
       "    </tr>\n",
       "    <tr>\n",
       "      <th>4</th>\n",
       "      <td>R_cinm_Tr</td>\n",
       "      <td>0.000000</td>\n",
       "      <td></td>\n",
       "    </tr>\n",
       "    <tr>\n",
       "      <th>5</th>\n",
       "      <td>EX_cinm_e</td>\n",
       "      <td>0.000000</td>\n",
       "      <td></td>\n",
       "    </tr>\n",
       "    <tr>\n",
       "      <th>6</th>\n",
       "      <td>R_tyrA</td>\n",
       "      <td>0.000000</td>\n",
       "      <td>PP_1770</td>\n",
       "    </tr>\n",
       "    <tr>\n",
       "      <th>7</th>\n",
       "      <td>TYRTA</td>\n",
       "      <td>-0.039741</td>\n",
       "      <td>PP_1972 or PP_3590</td>\n",
       "    </tr>\n",
       "    <tr>\n",
       "      <th>8</th>\n",
       "      <td>PAL_Y</td>\n",
       "      <td>0.000000</td>\n",
       "      <td>PP_4692</td>\n",
       "    </tr>\n",
       "    <tr>\n",
       "      <th>9</th>\n",
       "      <td>R_pHCA_Tr</td>\n",
       "      <td>0.000000</td>\n",
       "      <td></td>\n",
       "    </tr>\n",
       "    <tr>\n",
       "      <th>10</th>\n",
       "      <td>EX_pHCA_e</td>\n",
       "      <td>0.000000</td>\n",
       "      <td></td>\n",
       "    </tr>\n",
       "  </tbody>\n",
       "</table>\n",
       "</div>"
      ],
      "text/plain": [
       "    Reactions     Value               Genes\n",
       "0       CHORM  0.095506             PP_1769\n",
       "1      R_pheA  0.000000             PP_1769\n",
       "2      PHETA1 -0.055765  PP_1972 or PP_3590\n",
       "3       PAL_F  0.000000                    \n",
       "4   R_cinm_Tr  0.000000                    \n",
       "5   EX_cinm_e  0.000000                    \n",
       "6      R_tyrA  0.000000             PP_1770\n",
       "7       TYRTA -0.039741  PP_1972 or PP_3590\n",
       "8       PAL_Y  0.000000             PP_4692\n",
       "9   R_pHCA_Tr  0.000000                    \n",
       "10  EX_pHCA_e  0.000000                    "
      ]
     },
     "execution_count": 51,
     "metadata": {},
     "output_type": "execute_result"
    }
   ],
   "source": [
    "model.objective = model.reactions.RgPAL\n",
    "solution = model.optimize()\n",
    "tableFluxes(solution, ['CHORM', \n",
    "                       'R_pheA', 'PHETA1', 'PAL_F', 'R_cinm_Tr', 'EX_cinm_e',\n",
    "                       'R_tyrA', 'TYRTA', 'PAL_Y', 'R_pHCA_Tr', 'EX_pHCA_e'])"
   ]
  },
  {
   "cell_type": "markdown",
   "metadata": {},
   "source": [
    "EX_pHCA_e & EX_cinm_e have zero flux, yet we know there is pHCA and cinm output from the experimental data. \n",
    "Therefore, we will also add more constraints. "
   ]
  },
  {
   "cell_type": "code",
   "execution_count": 52,
   "metadata": {},
   "outputs": [],
   "source": [
    "model.reactions.PAL_Y.lower_bound = 1e-5\n",
    "model.reactions.PAL_F.lower_bound = 1e-5"
   ]
  },
  {
   "cell_type": "code",
   "execution_count": 53,
   "metadata": {},
   "outputs": [
    {
     "data": {
      "text/html": [
       "<div>\n",
       "<style scoped>\n",
       "    .dataframe tbody tr th:only-of-type {\n",
       "        vertical-align: middle;\n",
       "    }\n",
       "\n",
       "    .dataframe tbody tr th {\n",
       "        vertical-align: top;\n",
       "    }\n",
       "\n",
       "    .dataframe thead th {\n",
       "        text-align: right;\n",
       "    }\n",
       "</style>\n",
       "<table border=\"1\" class=\"dataframe\">\n",
       "  <thead>\n",
       "    <tr style=\"text-align: right;\">\n",
       "      <th></th>\n",
       "      <th>Reactions</th>\n",
       "      <th>Value</th>\n",
       "      <th>Genes</th>\n",
       "    </tr>\n",
       "  </thead>\n",
       "  <tbody>\n",
       "    <tr>\n",
       "      <th>0</th>\n",
       "      <td>CHORM</td>\n",
       "      <td>0.095526</td>\n",
       "      <td>PP_1769</td>\n",
       "    </tr>\n",
       "    <tr>\n",
       "      <th>1</th>\n",
       "      <td>R_pheA</td>\n",
       "      <td>0.000000</td>\n",
       "      <td>PP_1769</td>\n",
       "    </tr>\n",
       "    <tr>\n",
       "      <th>2</th>\n",
       "      <td>PHETA1</td>\n",
       "      <td>-0.055775</td>\n",
       "      <td>PP_1972 or PP_3590</td>\n",
       "    </tr>\n",
       "    <tr>\n",
       "      <th>3</th>\n",
       "      <td>PAL_F</td>\n",
       "      <td>0.000010</td>\n",
       "      <td></td>\n",
       "    </tr>\n",
       "    <tr>\n",
       "      <th>4</th>\n",
       "      <td>R_cinm_Tr</td>\n",
       "      <td>0.000010</td>\n",
       "      <td></td>\n",
       "    </tr>\n",
       "    <tr>\n",
       "      <th>5</th>\n",
       "      <td>EX_cinm_e</td>\n",
       "      <td>0.000010</td>\n",
       "      <td></td>\n",
       "    </tr>\n",
       "    <tr>\n",
       "      <th>6</th>\n",
       "      <td>R_tyrA</td>\n",
       "      <td>0.000000</td>\n",
       "      <td>PP_1770</td>\n",
       "    </tr>\n",
       "    <tr>\n",
       "      <th>7</th>\n",
       "      <td>TYRTA</td>\n",
       "      <td>-0.039751</td>\n",
       "      <td>PP_1972 or PP_3590</td>\n",
       "    </tr>\n",
       "    <tr>\n",
       "      <th>8</th>\n",
       "      <td>PAL_Y</td>\n",
       "      <td>0.000010</td>\n",
       "      <td>PP_4692</td>\n",
       "    </tr>\n",
       "    <tr>\n",
       "      <th>9</th>\n",
       "      <td>R_pHCA_Tr</td>\n",
       "      <td>0.000010</td>\n",
       "      <td></td>\n",
       "    </tr>\n",
       "    <tr>\n",
       "      <th>10</th>\n",
       "      <td>EX_pHCA_e</td>\n",
       "      <td>0.000010</td>\n",
       "      <td></td>\n",
       "    </tr>\n",
       "  </tbody>\n",
       "</table>\n",
       "</div>"
      ],
      "text/plain": [
       "    Reactions     Value               Genes\n",
       "0       CHORM  0.095526             PP_1769\n",
       "1      R_pheA  0.000000             PP_1769\n",
       "2      PHETA1 -0.055775  PP_1972 or PP_3590\n",
       "3       PAL_F  0.000010                    \n",
       "4   R_cinm_Tr  0.000010                    \n",
       "5   EX_cinm_e  0.000010                    \n",
       "6      R_tyrA  0.000000             PP_1770\n",
       "7       TYRTA -0.039751  PP_1972 or PP_3590\n",
       "8       PAL_Y  0.000010             PP_4692\n",
       "9   R_pHCA_Tr  0.000010                    \n",
       "10  EX_pHCA_e  0.000010                    "
      ]
     },
     "execution_count": 53,
     "metadata": {},
     "output_type": "execute_result"
    }
   ],
   "source": [
    "model.objective = model.reactions.RgPAL\n",
    "solution = model.optimize()\n",
    "tableFluxes(solution, ['CHORM', \n",
    "                       'R_pheA', 'PHETA1', 'PAL_F', 'R_cinm_Tr', 'EX_cinm_e',\n",
    "                       'R_tyrA', 'TYRTA', 'PAL_Y', 'R_pHCA_Tr', 'EX_pHCA_e'])"
   ]
  },
  {
   "cell_type": "code",
   "execution_count": 54,
   "metadata": {},
   "outputs": [
    {
     "data": {
      "text/html": [
       "<div>\n",
       "<style scoped>\n",
       "    .dataframe tbody tr th:only-of-type {\n",
       "        vertical-align: middle;\n",
       "    }\n",
       "\n",
       "    .dataframe tbody tr th {\n",
       "        vertical-align: top;\n",
       "    }\n",
       "\n",
       "    .dataframe thead th {\n",
       "        text-align: right;\n",
       "    }\n",
       "</style>\n",
       "<table border=\"1\" class=\"dataframe\">\n",
       "  <thead>\n",
       "    <tr style=\"text-align: right;\">\n",
       "      <th></th>\n",
       "      <th>Reactions</th>\n",
       "      <th>Value</th>\n",
       "      <th>Genes</th>\n",
       "    </tr>\n",
       "  </thead>\n",
       "  <tbody>\n",
       "    <tr>\n",
       "      <th>0</th>\n",
       "      <td>CHORM</td>\n",
       "      <td>0.095526</td>\n",
       "      <td>PP_1769</td>\n",
       "    </tr>\n",
       "    <tr>\n",
       "      <th>1</th>\n",
       "      <td>EX_4abz_e</td>\n",
       "      <td>0.000000</td>\n",
       "      <td></td>\n",
       "    </tr>\n",
       "    <tr>\n",
       "      <th>2</th>\n",
       "      <td>EX_4aPhe_e</td>\n",
       "      <td>0.000000</td>\n",
       "      <td></td>\n",
       "    </tr>\n",
       "  </tbody>\n",
       "</table>\n",
       "</div>"
      ],
      "text/plain": [
       "    Reactions     Value    Genes\n",
       "0       CHORM  0.095526  PP_1769\n",
       "1   EX_4abz_e  0.000000         \n",
       "2  EX_4aPhe_e  0.000000         "
      ]
     },
     "execution_count": 54,
     "metadata": {},
     "output_type": "execute_result"
    }
   ],
   "source": [
    "solution = model.optimize()\n",
    "tableFluxes(solution, ['CHORM', \n",
    "                       'EX_4abz_e',\n",
    "                       'EX_4aPhe_e'])"
   ]
  },
  {
   "cell_type": "code",
   "execution_count": 55,
   "metadata": {},
   "outputs": [],
   "source": [
    "model.reactions.EX_4abz_e.lower_bound = 1e-5\n",
    "model.reactions.EX_4aPhe_e.lower_bound = 1e-5"
   ]
  },
  {
   "cell_type": "code",
   "execution_count": 56,
   "metadata": {},
   "outputs": [
    {
     "data": {
      "text/html": [
       "<div>\n",
       "<style scoped>\n",
       "    .dataframe tbody tr th:only-of-type {\n",
       "        vertical-align: middle;\n",
       "    }\n",
       "\n",
       "    .dataframe tbody tr th {\n",
       "        vertical-align: top;\n",
       "    }\n",
       "\n",
       "    .dataframe thead th {\n",
       "        text-align: right;\n",
       "    }\n",
       "</style>\n",
       "<table border=\"1\" class=\"dataframe\">\n",
       "  <thead>\n",
       "    <tr style=\"text-align: right;\">\n",
       "      <th></th>\n",
       "      <th>Reactions</th>\n",
       "      <th>Value</th>\n",
       "      <th>Genes</th>\n",
       "    </tr>\n",
       "  </thead>\n",
       "  <tbody>\n",
       "    <tr>\n",
       "      <th>0</th>\n",
       "      <td>CHORM</td>\n",
       "      <td>0.095526</td>\n",
       "      <td>PP_1769</td>\n",
       "    </tr>\n",
       "    <tr>\n",
       "      <th>1</th>\n",
       "      <td>EX_4abz_e</td>\n",
       "      <td>0.000010</td>\n",
       "      <td></td>\n",
       "    </tr>\n",
       "    <tr>\n",
       "      <th>2</th>\n",
       "      <td>EX_4aPhe_e</td>\n",
       "      <td>0.000010</td>\n",
       "      <td></td>\n",
       "    </tr>\n",
       "  </tbody>\n",
       "</table>\n",
       "</div>"
      ],
      "text/plain": [
       "    Reactions     Value    Genes\n",
       "0       CHORM  0.095526  PP_1769\n",
       "1   EX_4abz_e  0.000010         \n",
       "2  EX_4aPhe_e  0.000010         "
      ]
     },
     "execution_count": 56,
     "metadata": {},
     "output_type": "execute_result"
    }
   ],
   "source": [
    "solution = model.optimize()\n",
    "tableFluxes(solution, ['CHORM', \n",
    "                       'EX_4abz_e',\n",
    "                       'EX_4aPhe_e'])"
   ]
  },
  {
   "cell_type": "code",
   "execution_count": 57,
   "metadata": {},
   "outputs": [],
   "source": [
    "# Write model to files\n",
    "cobra.io.save_json_model(model, '../models/iJN1463_4aca.json')\n",
    "cobra.io.write_sbml_model(model, '../models/iJN1463_4aca.xml')"
   ]
  },
  {
   "cell_type": "markdown",
   "metadata": {},
   "source": [
    "Removing 0-flux reactions"
   ]
  },
  {
   "cell_type": "code",
   "execution_count": 58,
   "metadata": {},
   "outputs": [],
   "source": [
    "# generate a list of reactions where fluxes are 0\n",
    "zero_flux_rxns = solution.fluxes[solution.fluxes==0].index\n"
   ]
  },
  {
   "cell_type": "code",
   "execution_count": 59,
   "metadata": {},
   "outputs": [
    {
     "name": "stdout",
     "output_type": "stream",
     "text": [
      "Read LP format model from file C:\\Users\\user\\AppData\\Local\\Temp\\tmpw358zezu.lp\n",
      "Reading time = 0.01 seconds\n",
      ": 2165 rows, 5822 columns, 23044 nonzeros\n"
     ]
    }
   ],
   "source": [
    "# make a model copy\n",
    "cleaned_model = model.copy()\n",
    "\n",
    "# remove all zero_flux_rxns from the model\n",
    "cleaned_model.remove_reactions(zero_flux_rxns, remove_orphans=True)"
   ]
  },
  {
   "cell_type": "code",
   "execution_count": 60,
   "metadata": {},
   "outputs": [
    {
     "data": {
      "text/html": [
       "<strong><em>Optimal</em> solution with objective value 1.573</strong><br><div>\n",
       "<style scoped>\n",
       "    .dataframe tbody tr th:only-of-type {\n",
       "        vertical-align: middle;\n",
       "    }\n",
       "\n",
       "    .dataframe tbody tr th {\n",
       "        vertical-align: top;\n",
       "    }\n",
       "\n",
       "    .dataframe thead th {\n",
       "        text-align: right;\n",
       "    }\n",
       "</style>\n",
       "<table border=\"1\" class=\"dataframe\">\n",
       "  <thead>\n",
       "    <tr style=\"text-align: right;\">\n",
       "      <th></th>\n",
       "      <th>fluxes</th>\n",
       "      <th>reduced_costs</th>\n",
       "    </tr>\n",
       "  </thead>\n",
       "  <tbody>\n",
       "    <tr>\n",
       "      <th>3HAD160</th>\n",
       "      <td>0.010419</td>\n",
       "      <td>0.000000e+00</td>\n",
       "    </tr>\n",
       "    <tr>\n",
       "      <th>1PQQS</th>\n",
       "      <td>0.000065</td>\n",
       "      <td>0.000000e+00</td>\n",
       "    </tr>\n",
       "    <tr>\n",
       "      <th>2PQQS</th>\n",
       "      <td>0.000065</td>\n",
       "      <td>0.000000e+00</td>\n",
       "    </tr>\n",
       "    <tr>\n",
       "      <th>3HAACOAT140</th>\n",
       "      <td>-0.010667</td>\n",
       "      <td>-0.000000e+00</td>\n",
       "    </tr>\n",
       "    <tr>\n",
       "      <th>3HAACOAT141</th>\n",
       "      <td>0.010667</td>\n",
       "      <td>4.440892e-16</td>\n",
       "    </tr>\n",
       "    <tr>\n",
       "      <th>...</th>\n",
       "      <td>...</td>\n",
       "      <td>...</td>\n",
       "    </tr>\n",
       "    <tr>\n",
       "      <th>R_cinm_Tr</th>\n",
       "      <td>0.000010</td>\n",
       "      <td>0.000000e+00</td>\n",
       "    </tr>\n",
       "    <tr>\n",
       "      <th>EX_cinm_e</th>\n",
       "      <td>0.000010</td>\n",
       "      <td>0.000000e+00</td>\n",
       "    </tr>\n",
       "    <tr>\n",
       "      <th>PAL_Y</th>\n",
       "      <td>0.000010</td>\n",
       "      <td>-1.953079e+00</td>\n",
       "    </tr>\n",
       "    <tr>\n",
       "      <th>R_pHCA_Tr</th>\n",
       "      <td>0.000010</td>\n",
       "      <td>0.000000e+00</td>\n",
       "    </tr>\n",
       "    <tr>\n",
       "      <th>EX_pHCA_e</th>\n",
       "      <td>0.000010</td>\n",
       "      <td>0.000000e+00</td>\n",
       "    </tr>\n",
       "  </tbody>\n",
       "</table>\n",
       "<p>623 rows × 2 columns</p>\n",
       "</div>"
      ],
      "text/plain": [
       "<Solution 1.573 at 0x1a5f212d610>"
      ]
     },
     "execution_count": 60,
     "metadata": {},
     "output_type": "execute_result"
    }
   ],
   "source": [
    "cleaned_model.optimize()\n",
    "#sol = model.optimize()\n",
    "#print(sol.objective_value)"
   ]
  },
  {
   "cell_type": "code",
   "execution_count": 61,
   "metadata": {},
   "outputs": [],
   "source": [
    "# Write model to files\n",
    "cobra.io.save_json_model(cleaned_model, '../models/iJN1463_JS.json')\n",
    "cobra.io.write_sbml_model(cleaned_model, '../models/iJN1463_JS.xml')"
   ]
  },
  {
   "cell_type": "code",
   "execution_count": 62,
   "metadata": {},
   "outputs": [
    {
     "data": {
      "text/plain": [
       "623"
      ]
     },
     "execution_count": 62,
     "metadata": {},
     "output_type": "execute_result"
    }
   ],
   "source": [
    "len(cleaned_model.reactions)"
   ]
  },
  {
   "cell_type": "markdown",
   "metadata": {},
   "source": [
    "## Creating a model with no explicit external species"
   ]
  },
  {
   "cell_type": "code",
   "execution_count": 63,
   "metadata": {},
   "outputs": [],
   "source": [
    "m1 = cobra.io.load_json_model('../models/iJN1463_JS.json')"
   ]
  },
  {
   "cell_type": "code",
   "execution_count": 64,
   "metadata": {},
   "outputs": [],
   "source": [
    "new_bd_rxns = []\n",
    "EX_rxns = []\n",
    "external_mets = [m for m in m1.metabolites if m.compartment == 'e']\n",
    "for met in external_mets: \n",
    "    for rxn in met.reactions:\n",
    "        if 'EX' not in rxn.id:\n",
    "            new_bd_rxns.append(rxn.id)\n",
    "        else: \n",
    "            EX_rxns.append(rxn)"
   ]
  },
  {
   "cell_type": "code",
   "execution_count": 65,
   "metadata": {},
   "outputs": [
    {
     "data": {
      "text/plain": [
       "[<Reaction EX_cl_e at 0x1a5fe52e910>,\n",
       " <Reaction EX_co2_e at 0x1a5fe52e9d0>,\n",
       " <Reaction EX_ca2_e at 0x1a5fe55ab20>,\n",
       " <Reaction EX_cobalt2_e at 0x1a5fe52e700>,\n",
       " <Reaction EX_cu2_e at 0x1a5fe52ec70>,\n",
       " <Reaction EX_fe2_e at 0x1a5f1c76f40>,\n",
       " <Reaction EX_glc__D_e at 0x1a5f1c76d00>,\n",
       " <Reaction EX_h_e at 0x1a5f1c76ac0>,\n",
       " <Reaction EX_k_e at 0x1a5f1c763a0>,\n",
       " <Reaction EX_h2o_e at 0x1a5f1c76be0>,\n",
       " <Reaction EX_mg2_e at 0x1a5f1c76730>,\n",
       " <Reaction EX_ni2_e at 0x1a5f1c76400>,\n",
       " <Reaction EX_mn2_e at 0x1a5f1c765e0>,\n",
       " <Reaction EX_mobd_e at 0x1a5f1c768e0>,\n",
       " <Reaction EX_o2_e at 0x1a5f1c76190>,\n",
       " <Reaction EX_na1_e at 0x1a5f1c76850>,\n",
       " <Reaction EX_nh4_e at 0x1a5f1c76790>,\n",
       " <Reaction EX_pi_e at 0x1a5f1c760a0>,\n",
       " <Reaction EX_so4_e at 0x1a5f1c76100>,\n",
       " <Reaction EX_zn2_e at 0x1a5f014de50>,\n",
       " <Reaction EX_4aca_e at 0x1a5f1825520>,\n",
       " <Reaction EX_4abz_e at 0x1a5f1e40ac0>,\n",
       " <Reaction EX_4aPhe_e at 0x1a5f1e400a0>,\n",
       " <Reaction EX_cinm_e at 0x1a5f1e400d0>,\n",
       " <Reaction EX_pHCA_e at 0x1a5f1d81a00>]"
      ]
     },
     "execution_count": 65,
     "metadata": {},
     "output_type": "execute_result"
    }
   ],
   "source": [
    "EX_rxns"
   ]
  },
  {
   "cell_type": "code",
   "execution_count": 66,
   "metadata": {},
   "outputs": [],
   "source": [
    "for rxn in EX_rxns: \n",
    "    m1.remove_reactions([rxn])"
   ]
  },
  {
   "cell_type": "raw",
   "metadata": {},
   "source": [
    "m1.remove_reactions([m1.reactions.R_4aca_Bd])"
   ]
  },
  {
   "cell_type": "code",
   "execution_count": 67,
   "metadata": {},
   "outputs": [],
   "source": [
    "# remove _e metabolites\n",
    "for met in external_mets: \n",
    "    m1.remove_metabolites([met])\n",
    "\n",
    "# change compartment of _c metabolites to _e \n",
    "new_bd_mets = [met.id[:-2] + '_c' for met in external_mets]\n",
    "for met in new_bd_mets:\n",
    "    try: # if exists\n",
    "        m1.metabolites.get_by_id(met).compartment = 'e'\n",
    "    except: \n",
    "        pass"
   ]
  },
  {
   "cell_type": "code",
   "execution_count": 68,
   "metadata": {},
   "outputs": [],
   "source": [
    "# establish new boundary metabolites\n",
    "for met in new_bd_mets:\n",
    "    try: \n",
    "        m1.add_boundary(m1.metabolites.get_by_id(met), type=\"exchange\")\n",
    "    except:\n",
    "        pass "
   ]
  },
  {
   "cell_type": "code",
   "execution_count": 69,
   "metadata": {},
   "outputs": [],
   "source": [
    "# Write model to files\n",
    "cobra.io.save_json_model(m1, '../models/iJN1463ex_JS.json')\n",
    "cobra.io.write_sbml_model(m1, '../models/iJN1463ex_JS.xml')"
   ]
  },
  {
   "cell_type": "code",
   "execution_count": 70,
   "metadata": {},
   "outputs": [
    {
     "data": {
      "text/plain": [
       "623"
      ]
     },
     "execution_count": 70,
     "metadata": {},
     "output_type": "execute_result"
    }
   ],
   "source": [
    "m2 = cobra.io.load_json_model('../models/iJN1463ex_JS.json')\n",
    "len(m2.reactions)"
   ]
  }
 ],
 "metadata": {
  "kernelspec": {
   "display_name": "modeling-workshop",
   "language": "python",
   "name": "python3"
  },
  "language_info": {
   "codemirror_mode": {
    "name": "ipython",
    "version": 3
   },
   "file_extension": ".py",
   "mimetype": "text/x-python",
   "name": "python",
   "nbconvert_exporter": "python",
   "pygments_lexer": "ipython3",
   "version": "3.9.19"
  }
 },
 "nbformat": 4,
 "nbformat_minor": 4
}
